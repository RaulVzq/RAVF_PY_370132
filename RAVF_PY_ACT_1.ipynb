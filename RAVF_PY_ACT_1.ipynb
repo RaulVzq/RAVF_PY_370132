{
  "nbformat": 4,
  "nbformat_minor": 0,
  "metadata": {
    "colab": {
      "provenance": []
    },
    "kernelspec": {
      "name": "python3",
      "display_name": "Python 3"
    },
    "language_info": {
      "name": "python"
    }
  },
  "cells": [
    {
      "cell_type": "markdown",
      "source": [
        "1.-Programa en Python Mostrar un mensaje que diga “HOLA MUNDO” en un solo renglón usando 2 print\n",
        "\n"
      ],
      "metadata": {
        "id": "-ArlHcih2UTr"
      }
    },
    {
      "cell_type": "code",
      "execution_count": null,
      "metadata": {
        "colab": {
          "base_uri": "https://localhost:8080/"
        },
        "id": "_8593vqB2TZJ",
        "outputId": "3e713453-0066-46ed-ebb1-9aae9fd5589a"
      },
      "outputs": [
        {
          "output_type": "stream",
          "name": "stdout",
          "text": [
            "HOLA MUNDO\n"
          ]
        }
      ],
      "source": [
        "print(\"HOLA MUNDO\")"
      ]
    },
    {
      "cell_type": "markdown",
      "source": [
        "2.-Programa en Python que lea 2 números, realizar la suma y desplegar la suma de los 2 números"
      ],
      "metadata": {
        "id": "le3Snv7n2hkN"
      }
    },
    {
      "cell_type": "code",
      "source": [
        "num1 = 0\n",
        "num2 = 0\n",
        "num3 = 0\n",
        "\n",
        "num1=int(input(\"Ingrese un primer numero: \"))\n",
        "num2=int(input(\"Ingrese un segundo numero: \"))\n",
        "num3 = num1 + num2\n",
        "\n",
        "print(\"La suma de los 2 numeros es igual a:\",num3)\n"
      ],
      "metadata": {
        "id": "8FlVAWmT2h4u",
        "colab": {
          "base_uri": "https://localhost:8080/"
        },
        "outputId": "a31a0a96-86b1-4f30-d10a-3ef1c7002040"
      },
      "execution_count": null,
      "outputs": [
        {
          "output_type": "stream",
          "name": "stdout",
          "text": [
            "Ingrese un primer numero: 1\n",
            "Ingrese un segundo numero: 2\n",
            "La suma de los 2 numeros es igual a: 3\n"
          ]
        }
      ]
    },
    {
      "cell_type": "markdown",
      "source": [
        "3.-Programa en Python que lea 2 números y realice las 4 operaciones básicas"
      ],
      "metadata": {
        "id": "PXJC4KfG2iMn"
      }
    },
    {
      "cell_type": "code",
      "source": [
        "num1 = 0\n",
        "num2 = 0\n",
        "suma = 0\n",
        "resta = 0\n",
        "multi = 0\n",
        "div = 0\n",
        "\n",
        "num1 = int(input(\"Ingrese un primer numero:\"))\n",
        "num2 = int(input(\"Ingrese un segundo numero:\"))\n",
        "\n",
        "suma = num1 + num2\n",
        "resta = num1 - num2\n",
        "multi = num1 * num2\n",
        "div = num1 / num2\n",
        "\n",
        "print(\"La suma de los dos numeros es igual a:\",suma)\n",
        "print(\"La suma de los dos numeros es igual a:\",resta)\n",
        "print(\"La suma de los dos numeros es igual a:\",multi)\n",
        "print(\"La suma de los dos numeros es igual a:\",div)\n",
        "\n"
      ],
      "metadata": {
        "id": "FOAfDZ9i2iiE",
        "colab": {
          "base_uri": "https://localhost:8080/"
        },
        "outputId": "a2372745-d7d3-4233-ecc5-dba9a0a75dfe"
      },
      "execution_count": null,
      "outputs": [
        {
          "output_type": "stream",
          "name": "stdout",
          "text": [
            "Ingrese un primer numero:15\n",
            "Ingrese un segundo numero:5\n",
            "La suma de los dos numeros es igual a: 20\n",
            "La suma de los dos numeros es igual a: 10\n",
            "La suma de los dos numeros es igual a: 75\n",
            "La suma de los dos numeros es igual a: 3.0\n"
          ]
        }
      ]
    },
    {
      "cell_type": "markdown",
      "source": [
        "4.-Programa en Python Que sirva para calcular el área de un triángulo"
      ],
      "metadata": {
        "id": "nwqmZf3u2jD3"
      }
    },
    {
      "cell_type": "code",
      "source": [
        "base = 0\n",
        "altura = 0\n",
        "area = 0\n",
        "\n",
        "base = int(input(\"Ingrese la base de su triangulo en centimetros: \"))\n",
        "altura = int(input(\"Ingrese la altura de su triangulo en centimetros: \"))\n",
        "\n",
        "area = (base*altura)/2\n",
        "\n",
        "print(f\"El area del triangulo es igual a: {area} (cm)\")"
      ],
      "metadata": {
        "id": "y2sD3klv2jXD",
        "colab": {
          "base_uri": "https://localhost:8080/"
        },
        "outputId": "bde19a18-3660-4cbf-b5ad-3a580925559a"
      },
      "execution_count": null,
      "outputs": [
        {
          "output_type": "stream",
          "name": "stdout",
          "text": [
            "Ingrese la base de su triangulo en centimetros: 15\n",
            "Ingrese la altura de su triangulo en centimetros: 20\n",
            "El area del triangulo es igual a: 150.0 (cm)\n"
          ]
        }
      ]
    },
    {
      "cell_type": "markdown",
      "source": [
        "5.-Programa en Python que lea una medida en centímetros y desplegar la misma medida pero convertida en pies y pulgadas"
      ],
      "metadata": {
        "id": "71llLj3h2jpT"
      }
    },
    {
      "cell_type": "code",
      "source": [
        "cm = 0\n",
        "pul = 0\n",
        "pies = 0\n",
        "\n",
        "cm = int(input(\"Ingrese los centimetros a convertir a pies y pulgadas: \"))\n",
        "\n",
        "pul = cm / 30.48\n",
        "pies = cm / 2.54\n",
        "\n",
        "print(f\"{cm} en centimetros es equivalente a {pies} pies y {pul} pulgadas\")"
      ],
      "metadata": {
        "id": "zCToy24K2j7L",
        "colab": {
          "base_uri": "https://localhost:8080/"
        },
        "outputId": "ccd20e40-19ea-4988-b8ff-5d643cefd598"
      },
      "execution_count": null,
      "outputs": [
        {
          "output_type": "stream",
          "name": "stdout",
          "text": [
            "Ingrese los centimetros a convertir a pies y pulgadas: 16\n",
            "16 en centimetros es equivalente a 6.299212598425196 pies y 0.5249343832020997 pulgadas\n"
          ]
        }
      ]
    },
    {
      "cell_type": "markdown",
      "source": [
        "6.-Programa en Python que lea una temperatura en grados centígrados y desplegarla en Grados Fahrenheit y grados kelvin\n",
        "\n"
      ],
      "metadata": {
        "id": "OrzacMXF2kI0"
      }
    },
    {
      "cell_type": "code",
      "source": [
        "cel = 0\n",
        "far = 0\n",
        "kel = 0\n",
        "\n",
        "cel = int(input(\"Ingrese la temperatura en grados centigrados: \"))\n",
        "\n",
        "far = (cel * (9 / 5)) + 32\n",
        "kel = cel + 273.15\n",
        "\n",
        "print(f\"{cel} grados centrigrados es igual a {far} grados farenheit que a su vez es igual a {kel} grados kelvin\")\n"
      ],
      "metadata": {
        "id": "qzDV6HPK2kei",
        "colab": {
          "base_uri": "https://localhost:8080/"
        },
        "outputId": "b849f4d0-5db7-43e0-cbf4-22daf034e4cd"
      },
      "execution_count": null,
      "outputs": [
        {
          "output_type": "stream",
          "name": "stdout",
          "text": [
            "Ingrese la temperatura en grados centigrados: 21\n",
            "21 grados centrigrados es igual a 69.80000000000001 grados farenheit que a su vez es igual a 294.15 grados kelvin\n"
          ]
        }
      ]
    },
    {
      "cell_type": "markdown",
      "source": [
        "7.-Programa en Python que lea 4 calificaciones de un alumno, desplegar el promedio del alumno"
      ],
      "metadata": {
        "id": "vINmsIMM2l1B"
      }
    },
    {
      "cell_type": "code",
      "source": [
        "calif1 = 0\n",
        "calif2 = 0\n",
        "calif3 = 0\n",
        "calif4 = 0\n",
        "prom = 0\n",
        "\n",
        "calif1 = int(input(\"Ingrese la calificacion en computacion: \"))\n",
        "calif2 = int(input(\"Ingrese la calificacion en calculo: \"))\n",
        "calif3 = int(input(\"Ingrese la calificacion en electricidad: \"))\n",
        "calif4 = int(input(\"Ingrese la calificacion en ecuaciones: \"))\n",
        "\n",
        "prom = (calif1 + calif2 + calif3 + calif4)/4\n",
        "\n",
        "print(f\"La calificacion promedio del alumno es de {prom}\")\n",
        "\n"
      ],
      "metadata": {
        "id": "O_Fa4E0m2mEk",
        "colab": {
          "base_uri": "https://localhost:8080/"
        },
        "outputId": "b2173330-a5c6-437d-ffd5-00b713d5f552"
      },
      "execution_count": null,
      "outputs": [
        {
          "output_type": "stream",
          "name": "stdout",
          "text": [
            "Ingrese la calificacion en computacion: 39\n",
            "Ingrese la calificacion en calculo: 63\n",
            "Ingrese la calificacion en electricidad: 81\n",
            "Ingrese la calificacion en ecuaciones: 74\n",
            "La calificacion promedio del alumno es de 64.25\n"
          ]
        }
      ]
    }
  ]
}