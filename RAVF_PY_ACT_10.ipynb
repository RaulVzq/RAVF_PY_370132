{
  "cells": [
    {
      "cell_type": "markdown",
      "metadata": {
        "id": "view-in-github",
        "colab_type": "text"
      },
      "source": [
        "<a href=\"https://colab.research.google.com/github/RaulVzq/RAVF_PY_370132/blob/main/RAVF_PY_ACT_10.ipynb\" target=\"_parent\"><img src=\"https://colab.research.google.com/assets/colab-badge.svg\" alt=\"Open In Colab\"/></a>"
      ]
    },
    {
      "cell_type": "markdown",
      "metadata": {
        "id": "ywffJAt_YKg8"
      },
      "source": [
        "Actividad #10\n",
        "\n",
        "Realiza un programa que realice una lista de diccionarios.\n",
        "\n",
        "MENU\n",
        "\n",
        "1.- Actividad (automatico)\n",
        "\n",
        "2.- Agregar (manual)\n",
        "\n",
        "3.- Imprimir lista\n",
        "\n",
        "(a)\n",
        "\n",
        "(b)\n",
        "\n",
        "(c)\n",
        "\n",
        "4.- Buscar {ID}\n",
        "\n",
        "5.- Ordenar\n",
        "\n",
        "6.- Eliminar {ID}\n",
        "\n",
        "7.- Borrar toda la lista {ID}\n",
        "\n",
        "0.- Salir"
      ]
    },
    {
      "cell_type": "markdown",
      "metadata": {
        "id": "KpyuNTR0ZDKa"
      },
      "source": [
        "////////// LIBRERIAS //////////"
      ]
    },
    {
      "cell_type": "code",
      "execution_count": 1,
      "metadata": {
        "id": "Lsl45XxYYIfh"
      },
      "outputs": [],
      "source": [
        "from IPython.display import clear_output"
      ]
    },
    {
      "cell_type": "code",
      "execution_count": 2,
      "metadata": {
        "id": "1OwNmSHCfhIA"
      },
      "outputs": [],
      "source": [
        "import random"
      ]
    },
    {
      "cell_type": "code",
      "execution_count": 3,
      "metadata": {
        "id": "RfFnvjPUfhU_"
      },
      "outputs": [],
      "source": [
        "from random import randint"
      ]
    },
    {
      "cell_type": "code",
      "execution_count": 4,
      "metadata": {
        "id": "kqJ5BMSYfhgf"
      },
      "outputs": [],
      "source": [
        "from random import choice"
      ]
    },
    {
      "cell_type": "code",
      "execution_count": 5,
      "metadata": {
        "id": "DWkhq4X29fDM"
      },
      "outputs": [],
      "source": [
        "import pprint as pp"
      ]
    },
    {
      "cell_type": "code",
      "execution_count": 6,
      "metadata": {
        "id": "VVBr5mjh_h9A"
      },
      "outputs": [],
      "source": [
        "import json as js"
      ]
    },
    {
      "cell_type": "code",
      "source": [
        "!pip3 install pyyaml"
      ],
      "metadata": {
        "colab": {
          "base_uri": "https://localhost:8080/"
        },
        "id": "IVhTCY9w3N71",
        "outputId": "1c470c71-2924-4340-deea-3c35a9347d7b"
      },
      "execution_count": 7,
      "outputs": [
        {
          "output_type": "stream",
          "name": "stdout",
          "text": [
            "Requirement already satisfied: pyyaml in /usr/local/lib/python3.10/dist-packages (6.0.1)\n"
          ]
        }
      ]
    },
    {
      "cell_type": "code",
      "source": [
        "import yaml"
      ],
      "metadata": {
        "id": "ZNeXfK8V3rBS"
      },
      "execution_count": 8,
      "outputs": []
    },
    {
      "cell_type": "markdown",
      "source": [
        "///////// VARIABLES GLOBALES //////////"
      ],
      "metadata": {
        "id": "vbShPeTX7kqZ"
      }
    },
    {
      "cell_type": "code",
      "source": [
        "reg_lista = []"
      ],
      "metadata": {
        "id": "zKnazAbM5Cfa"
      },
      "execution_count": 9,
      "outputs": []
    },
    {
      "cell_type": "markdown",
      "metadata": {
        "id": "xt-yKf1ZZaDx"
      },
      "source": [
        "////////// FUNCION PARA LIMPIAR PANTALLA /////////"
      ]
    },
    {
      "cell_type": "code",
      "execution_count": 10,
      "metadata": {
        "id": "McunddT0ZaZB"
      },
      "outputs": [],
      "source": [
        "def limpiar_pantalla ():\n",
        "    clear_output (wait = True)"
      ]
    },
    {
      "cell_type": "markdown",
      "metadata": {
        "id": "X0bOcXFLeRET"
      },
      "source": [
        "////////// FUNCION PARA VALIDAR UN RANGO DEFINIDO //////////"
      ]
    },
    {
      "cell_type": "code",
      "execution_count": 11,
      "metadata": {
        "id": "VBBdtf9xeWqa"
      },
      "outputs": [],
      "source": [
        "def vali_rang (num, rangi, rangfi):\n",
        "    if num < rangi or num > rangfi:\n",
        "        limpiar_pantalla ()\n",
        "        print(\"\\nIngrese un numero dentro del rango permitido...\\n\")\n",
        "        return 0\n",
        "    else:\n",
        "        return 1"
      ]
    },
    {
      "cell_type": "markdown",
      "metadata": {
        "id": "7VpCwcqLlGs9"
      },
      "source": [
        "///////// FUNCION PARA VALIDAR CADENAS //////////"
      ]
    },
    {
      "cell_type": "code",
      "execution_count": 12,
      "metadata": {
        "id": "10ap84zllNxf"
      },
      "outputs": [],
      "source": [
        "def vali_txt (texto):\n",
        "    caracter = str\n",
        "    if all(caracter.isalpha() or caracter.isspace() for caracter in texto):\n",
        "        return 1\n",
        "    else:\n",
        "        limpiar_pantalla ()\n",
        "        print(\"\\nNumeros no permitidos...\\n\")\n",
        "        return 0"
      ]
    },
    {
      "cell_type": "markdown",
      "metadata": {
        "id": "YdjxoKvJZrVp"
      },
      "source": [
        "//////// funcion que genera un registro de forma automatica /////////"
      ]
    },
    {
      "cell_type": "code",
      "execution_count": 13,
      "metadata": {
        "id": "kIp-zZGyZr3h"
      },
      "outputs": [],
      "source": [
        "def reg_auto ():\n",
        "\n",
        "    id_rand = random.randint (300000, 399999)\n",
        "    id = id_rand\n",
        "\n",
        "    n_hombre = random.choice ([\"RAUL\", \"ARAM\", \"FERNANDO\", \"ELIAN\", \"ARTURO\", \"PEDRO\", \"ANTONIO\", \"DIEGO\", \"GOKU\", \"KEVIN\", \"BRAYAN\", \"ANDRES\", \"URIEL\", \"ISAAC\", \"VICTOR\", \"LUIS\", \"ABRAHAM\", \"ERICK\", \"ANGEL\", \"ROBERTO\" ])\n",
        "    n_mujer = random.choice ([\"MARIANA\", \"MARIA\", \"ANTONIA\", \"RUBY\", \"ESMERALDA\", \"PERLA\", \"REGINA\", \"ANA\", \"ANEL\", \"CELESTE\", \"AZUL\", \"ROSA\", \"DINA\", \"DIANA\", \"DANNA\", \"DAYANA\", \"NAHOMI\", \"NAYELI\", \"NATALIA\"])\n",
        "\n",
        "    nombre = random.choice ([n_hombre, n_mujer])\n",
        "\n",
        "    ap_pat = random.choice([\"VAZQUEZ\", \"VASQUEZ\", \"VELASQUEZ\", \"DE LA TORRE\", \"CARRASCO\", \"LOPEZ\", \"TABOADA\", \"DE LA CRUZ\", \"FIGUEROA\", \"VANDERAS\", \"SANCHEZ\", \"CERVANTES\", \"BARRAGAN\", \"TORRES\", \"ENRIQUEZ\", \"LLAMAS\", \"DE LEON\", \"MARTINEZ\", \"GONZALEZ\", \"VILLALOBOS\"])\n",
        "    ap_mat = random.choice([\"VAZQUEZ\", \"VASQUEZ\", \"VELASQUEZ\", \"DE LA TORRE\", \"CARRASCO\", \"LOPEZ\", \"TABOADA\", \"DE LA CRUZ\", \"FIGUEROA\", \"VANDERAS\", \"SANCHEZ\", \"CERVANTES\", \"BARRAGAN\", \"TORRES\", \"ENRIQUEZ\", \"LLAMAS\", \"DE LEON\", \"MARTINEZ\", \"GONZALEZ\", \"VILLALOBOS\"])\n",
        "\n",
        "    edad_rand = random.randint (18, 60)\n",
        "    edad = edad_rand\n",
        "\n",
        "    if nombre == n_hombre:\n",
        "        sexo = \"HOMBRE\"\n",
        "    else:\n",
        "        sexo = \"MUJER\"\n",
        "\n",
        "    reg_empl = {\"ID\":id, \"Nombre\":nombre, \"Apellido Paterno\":ap_pat, \"Apellido Materno\":ap_mat, \"Edad\":edad, \"Genero\":sexo}\n",
        "\n",
        "    if None in reg_empl.values():\n",
        "        return None\n",
        "    else:\n",
        "        return reg_empl"
      ]
    },
    {
      "cell_type": "markdown",
      "metadata": {
        "id": "5Q0PdKSRcs09"
      },
      "source": [
        "////////// funcion que genera un registro de forma manual //////////"
      ]
    },
    {
      "cell_type": "code",
      "execution_count": 14,
      "metadata": {
        "id": "2StoTL6GctDs"
      },
      "outputs": [],
      "source": [
        "def reg_man ():\n",
        "\n",
        "    prueba = 0\n",
        "\n",
        "    while prueba == 0:\n",
        "        while True:\n",
        "            try:\n",
        "                id = int(input(\"Ingrese su identificacion: (6 digitos del 300000 al 399999): \"))\n",
        "            except:\n",
        "                limpiar_pantalla ()\n",
        "                print(\"\\nSolamente ingrese numeros...\\n\")\n",
        "            else:\n",
        "                prueba = vali_rang (id, 300000, 399999)\n",
        "                id_list = id\n",
        "                break\n",
        "    prueba = 0\n",
        "\n",
        "    while prueba == 0:\n",
        "        nom = str(input(\"Ingrese su nombre(s): \"))\n",
        "        prueba = vali_txt (nom)\n",
        "    nombre = nom.upper ()\n",
        "    prueba = 0\n",
        "\n",
        "    while prueba == 0:\n",
        "        appat = str(input(\"Ingrese su apellido paterno: \"))\n",
        "        prueba = vali_txt (appat)\n",
        "    ap_pat = appat.upper ()\n",
        "    prueba = 0\n",
        "\n",
        "    while prueba == 0:\n",
        "        apmat = str(input(\"Ingrese su apellido materno: \"))\n",
        "        prueba = vali_txt (apmat)\n",
        "    ap_mat = apmat.upper ()\n",
        "    prueba = 0\n",
        "\n",
        "    while prueba == 0:\n",
        "        while True:\n",
        "            try:\n",
        "               edad = int(input(\"Ingrese su edad: \"))\n",
        "            except:\n",
        "                print(\"\\nIngrese solamente numeros...\\n\")\n",
        "            else:\n",
        "                prueba = vali_rang (edad, 18, 60)\n",
        "                edad_list = edad\n",
        "                break\n",
        "    prueba = 0\n",
        "\n",
        "    while prueba == 0:\n",
        "        while True:\n",
        "            try:\n",
        "                sexo = int(input(\"Ingrese su genero: (1.-HOMBRE 2.-MUJER): \"))\n",
        "            except:\n",
        "                print(\"\\nIngrese solamente numeros...\\n\")\n",
        "            else:\n",
        "                prueba = vali_rang (sexo, 1, 2)\n",
        "                break;\n",
        "    prueba == 0\n",
        "\n",
        "    if sexo == 1:\n",
        "        gen = \"MASCULINO\"\n",
        "    if sexo == 2:\n",
        "        gen = \"FEMENINO\"\n",
        "\n",
        "    reg_empl = {\"ID\": id, \"NOMBRE\": nombre, \"APELLIDO PATERNO\": ap_pat, \"APELLIDO MATERNO\": ap_mat, \"EDAD\": edad, \"GENERO\": gen}\n",
        "    return reg_empl"
      ]
    },
    {
      "cell_type": "markdown",
      "metadata": {
        "id": "Dg-1WZWwwB5L"
      },
      "source": [
        "////////// funcion que recibe los registros como parametro /////////"
      ]
    },
    {
      "cell_type": "code",
      "execution_count": 15,
      "metadata": {
        "id": "Ksq210PXwKUy"
      },
      "outputs": [],
      "source": [
        "def almacena_regs (regs):\n",
        "    global reg_lista\n",
        "    for registro in reg_lista:\n",
        "        if registro.get(\"ID\") == regs.get(\"ID\"):\n",
        "            print(\"\\nLa ID ingresada esta ocupada por otro usuario, REGISTRO CANCELADO...\\n\")\n",
        "            return reg_lista\n",
        "    reg_lista.append (regs)\n",
        "    print(\"\\nSe ha agregado 1 registro...\\n\")\n",
        "    return reg_lista"
      ]
    },
    {
      "cell_type": "markdown",
      "metadata": {
        "id": "o4aoMn04_2-h"
      },
      "source": [
        "////////// funcion que imprime los registros //////////"
      ]
    },
    {
      "cell_type": "code",
      "execution_count": 16,
      "metadata": {
        "id": "e3JDVWkq_6XI"
      },
      "outputs": [],
      "source": [
        "def imprime_regs (reg_lista):\n",
        "    if not reg_lista:\n",
        "        print(\"\\nNo hay registros almacenados...\\n\")\n",
        "    else:\n",
        "        i = random.randint (1,3)\n",
        "        if i == 1:\n",
        "            pp.pp(reg_lista)\n",
        "        elif i == 2:\n",
        "            print(js.dumps(reg_lista, sort_keys = False, indent = 2))\n",
        "        elif i == 3:\n",
        "            print(yaml.dump(reg_lista, sort_keys = False, default_flow_style= False))"
      ]
    },
    {
      "cell_type": "markdown",
      "source": [
        "////////// funcion que busca un registro //////////"
      ],
      "metadata": {
        "id": "8veZXitxD1cu"
      }
    },
    {
      "cell_type": "code",
      "source": [
        "def busca_reg ():\n",
        "\n",
        "    global reg_lista\n",
        "    prueba = 0\n",
        "\n",
        "    if reg_lista:\n",
        "        while prueba == 0:\n",
        "            while True:\n",
        "                try:\n",
        "                    id_buscar = int(input(\"Ingrese la ID del registro a buscar (6 digitos del: 300000 al 399999): \"))\n",
        "                except:\n",
        "                    limpiar_pantalla ()\n",
        "                    print(\"\\nIngrese un valor numerico...\\n\")\n",
        "                else:\n",
        "                    prueba = vali_rang (id_buscar, 300000, 399999)\n",
        "                    break\n",
        "\n",
        "        reg_encontrado = None\n",
        "        for registro in reg_lista:\n",
        "            if registro.get(\"ID\") == id_buscar:\n",
        "                reg_encontrado = registro\n",
        "                break\n",
        "\n",
        "        if reg_encontrado:\n",
        "            indice = reg_lista.index(reg_encontrado)\n",
        "            print(f\"\\nRegistro encontrado en la posicion: {indice}\\n\")\n",
        "            print(reg_encontrado)\n",
        "            print(\"\\n\")\n",
        "\n",
        "        else:\n",
        "            print(\"\\nNo existe un registro con esa matricula...\\n\")\n",
        "    else:\n",
        "        print(\"\\nNo hay registros almacenados...\\n\")"
      ],
      "metadata": {
        "id": "VBvIYrreD5Nj"
      },
      "execution_count": 17,
      "outputs": []
    },
    {
      "cell_type": "markdown",
      "source": [
        "////////// funcion para ordenar lista //////////"
      ],
      "metadata": {
        "id": "KvG8PbOe1QB2"
      }
    },
    {
      "cell_type": "code",
      "source": [
        "def ordenar_lista (lista):\n",
        "    lista.sort(key = lambda x: x.get(\"ID\"))"
      ],
      "metadata": {
        "id": "8nhbBkrk1UV8"
      },
      "execution_count": 18,
      "outputs": []
    },
    {
      "cell_type": "markdown",
      "source": [
        "////////// funcion para eliminar 1 dato de la lista //////////"
      ],
      "metadata": {
        "id": "OvXZcfgY9xn5"
      }
    },
    {
      "cell_type": "code",
      "source": [
        "def elimina_reg ():\n",
        "    global reg_lista\n",
        "    prueba = 0\n",
        "\n",
        "    if reg_lista:\n",
        "        while prueba == 0:\n",
        "            while True:\n",
        "                try:\n",
        "                    id_buscar = int(input(\"Ingrese la ID del registro a eliminar (6 digitos del: 300000 al 399999): \"))\n",
        "                except:\n",
        "                    limpiar_pantalla ()\n",
        "                    print(\"\\nIngrese un valor numerico...\\n\")\n",
        "                else:\n",
        "                    prueba = vali_rang (id_buscar, 300000, 399999)\n",
        "                    break\n",
        "        prueba = 0\n",
        "\n",
        "        reg_encontrado = None\n",
        "        for registro in reg_lista:\n",
        "            if registro.get(\"ID\") == id_buscar:\n",
        "                reg_encontrado = registro\n",
        "                break\n",
        "        if reg_encontrado:\n",
        "            indice = reg_lista.index(reg_encontrado)\n",
        "            print(f\"\\nRegistro encontrado en la posicion: {indice}\\n\")\n",
        "            print(reg_encontrado)\n",
        "            print(\"\\n\")\n",
        "\n",
        "            while prueba == 0:\n",
        "                while True:\n",
        "                    try:\n",
        "                        opc = int(input(\"Seguro que desea eliminar el registro ? \\n1.-SI \\n2.-NO \\n:\"))\n",
        "                    except:\n",
        "                        limpiar_pantalla()\n",
        "                        print(\"Solamente ingrese numeros\")\n",
        "                    else:\n",
        "                        prueba = vali_rang (opc,1,2)\n",
        "                        break\n",
        "            prueba = 0\n",
        "\n",
        "            if opc == 1:\n",
        "                del reg_lista[indice]\n",
        "                limpiar_pantalla ()\n",
        "                print(\"\\nRegistro ELIMINADO...\\n\")\n",
        "            if opc == 2:\n",
        "                limpiar_pantalla ()\n",
        "                print(\"\\nEliminacion CANCELADA...\\n\")\n",
        "        else:\n",
        "            print(\"\\nNo existe ningun registro con esa matricula...\\n\")\n",
        "    else:\n",
        "        print(\"\\nNo hay registros almacenados...\\n\")"
      ],
      "metadata": {
        "id": "W-tRJ6Vp93vb"
      },
      "execution_count": 19,
      "outputs": []
    },
    {
      "cell_type": "markdown",
      "source": [
        "////////// funcion para eliminar todos los registros de la lista //////////"
      ],
      "metadata": {
        "id": "GNokJ2Y2DIey"
      }
    },
    {
      "cell_type": "code",
      "source": [
        "def elimina_all_regs ():\n",
        "    global reg_lista\n",
        "    prueba = 0\n",
        "    if reg_lista:\n",
        "        while prueba == 0:\n",
        "            while True:\n",
        "                try:\n",
        "                    opc = int(input(\"Desea vaciar la lista TOTALMENTE? \\n1.-SI \\n2.-NO \\n:\"))\n",
        "                except:\n",
        "                    limpiar_pantalla()\n",
        "                    print(\"\\nIngrese solamente datos numericos...\\n\")\n",
        "                else:\n",
        "                    prueba = vali_rang (opc, 1, 2)\n",
        "                    break\n",
        "                    prueba == 0\n",
        "\n",
        "        if opc == 1:\n",
        "            limpiar_pantalla ()\n",
        "            reg_lista.clear ()\n",
        "            print(\"\\nTodos los registros han sido ELIMINADOS...\\n\")\n",
        "        if opc == 2:\n",
        "            limpiar_pantalla ()\n",
        "            print(\"\\nEliminacion CANCELADA...\\n\")\n",
        "    else:\n",
        "        limpiar_pantalla ()\n",
        "        print(\"\\nNo hay registros almacenados...\\n\")"
      ],
      "metadata": {
        "id": "rNh7_NgGDQ2o"
      },
      "execution_count": 20,
      "outputs": []
    },
    {
      "cell_type": "markdown",
      "metadata": {
        "id": "WSF8wEmvvvGo"
      },
      "source": [
        "////////// FUNCION QUE MANDA A GENERAR REGISTROS AUTOMATICOS /////////"
      ]
    },
    {
      "cell_type": "code",
      "execution_count": 21,
      "metadata": {
        "id": "8wPf8hXYv0iL"
      },
      "outputs": [],
      "source": [
        "def gen_reg_auto ():\n",
        "    reg = {}\n",
        "    reg = reg_auto ()\n",
        "    almacena_regs (reg)"
      ]
    },
    {
      "cell_type": "markdown",
      "metadata": {
        "id": "-GCSnoEox1oH"
      },
      "source": [
        "////////// FUNCION QUE MANDA A GENERAR REGISTROS MANUALES //////////"
      ]
    },
    {
      "cell_type": "code",
      "execution_count": 22,
      "metadata": {
        "id": "m809YY7Px5Wb"
      },
      "outputs": [],
      "source": [
        "def gen_reg_man ():\n",
        "    reg = {}\n",
        "    reg = reg_man ()\n",
        "    almacena_regs (reg)"
      ]
    },
    {
      "cell_type": "markdown",
      "metadata": {
        "id": "Vqh6ybtH_jSQ"
      },
      "source": [
        "////////// FUNCION QUE MANDA LLAMAR A IMPRIMIR LOS REGISTROS //////////"
      ]
    },
    {
      "cell_type": "code",
      "execution_count": 23,
      "metadata": {
        "id": "2nPx-FNm_vg0"
      },
      "outputs": [],
      "source": [
        "def imprimir_regs ():\n",
        "    global reg_lista\n",
        "    imprime_regs (reg_lista)"
      ]
    },
    {
      "cell_type": "markdown",
      "source": [
        "////////// FUNCION QUE MANDA A LLAMAR LA BUSQUEDA DE UN REGISTRO //////////"
      ],
      "metadata": {
        "id": "z_nTUseWDUKa"
      }
    },
    {
      "cell_type": "code",
      "source": [
        "def buscar_reg ():\n",
        "    busca_reg()"
      ],
      "metadata": {
        "id": "YyLXQ0YEDvWv"
      },
      "execution_count": 24,
      "outputs": []
    },
    {
      "cell_type": "markdown",
      "source": [
        "////////// FUNCION QUE MANDA A LLAMAR LA ORDENACION DE LA LISTA //////////"
      ],
      "metadata": {
        "id": "SCpSPFK80x17"
      }
    },
    {
      "cell_type": "code",
      "source": [
        "def ordenar_regs ():\n",
        "    global reg_lista\n",
        "    if reg_lista:\n",
        "        ordenar_lista (reg_lista)\n",
        "        limpiar_pantalla ()\n",
        "        print(\"\\nSe ha ordenado la lista de registros\\n\")\n",
        "    else:\n",
        "        limpiar_pantalla ()\n",
        "        print(\"\\nNo hay registros almacenados en la lista...\\n\")"
      ],
      "metadata": {
        "id": "FzO7gLo903Ni"
      },
      "execution_count": 25,
      "outputs": []
    },
    {
      "cell_type": "markdown",
      "source": [
        "////////// FUNCION QUE MANDA A LLAMAR LA ELIMINACION DE UN DATO DE LA LISTA //////////"
      ],
      "metadata": {
        "id": "kmtmGmbi9mxH"
      }
    },
    {
      "cell_type": "code",
      "source": [
        "def eliminar_reg ():\n",
        "    elimina_reg ()"
      ],
      "metadata": {
        "id": "FkE3_Ews9kXC"
      },
      "execution_count": 26,
      "outputs": []
    },
    {
      "cell_type": "markdown",
      "source": [
        "////////// FUNCION QUE MANDA A LLAMAR LA ELIMINACION DE TODOS LOS DATOS DE LA LISTA //////////"
      ],
      "metadata": {
        "id": "L2Be0LcpDADo"
      }
    },
    {
      "cell_type": "code",
      "source": [
        "def eliminar_all_regs ():\n",
        "    elimina_all_regs ()"
      ],
      "metadata": {
        "id": "UaYnKsLPC_Ez"
      },
      "execution_count": 27,
      "outputs": []
    },
    {
      "cell_type": "markdown",
      "metadata": {
        "id": "KXHA_eFTZ3WZ"
      },
      "source": [
        "//////// FUNCION DEL MENU DE OPERCIONES ////////"
      ]
    },
    {
      "cell_type": "code",
      "execution_count": 28,
      "metadata": {
        "id": "bT8kzvHZZ3kg",
        "colab": {
          "base_uri": "https://localhost:8080/"
        },
        "outputId": "d1ba497c-a327-4874-faee-18a530f6d992"
      },
      "outputs": [
        {
          "output_type": "stream",
          "name": "stdout",
          "text": [
            "Finalizado...\n"
          ]
        }
      ],
      "source": [
        "opc = 1\n",
        "while opc != 0:\n",
        "    try:\n",
        "        print(\"\\n\")\n",
        "        print(\"/////////// M E N U ///////////\")\n",
        "        print(\"Ingrese la opcion a realizar: \")\n",
        "        print(\"1.- Agregar 1 registro (automatico)\")\n",
        "        print(\"2.- Agregar 1 registro (manual)\")\n",
        "        print(\"3.- Imprimir lista \")\n",
        "        print(\"4.- Buscar (por ID)\")\n",
        "        print(\"5.- Ordenar\")\n",
        "        print(\"6.- Eliminar\")\n",
        "        print(\"7.- Borrar toda la lista\")\n",
        "        print(\"0.- Salir\")\n",
        "        opc = int(input(\"\"))\n",
        "    except:\n",
        "        limpiar_pantalla ()\n",
        "        print(\"\\nletras no permitidas, solamente ingrese numeros...\\n\")\n",
        "    else:\n",
        "        if opc == 1:\n",
        "            limpiar_pantalla ()\n",
        "            gen_reg_auto ()\n",
        "\n",
        "        elif opc == 2:\n",
        "            limpiar_pantalla ()\n",
        "            gen_reg_man ()\n",
        "\n",
        "        elif opc == 3:\n",
        "            limpiar_pantalla ()\n",
        "            imprimir_regs ()\n",
        "\n",
        "        elif opc == 4:\n",
        "            limpiar_pantalla ()\n",
        "            buscar_reg ()\n",
        "\n",
        "        elif opc == 5:\n",
        "            limpiar_pantalla ()\n",
        "            ordenar_regs ()\n",
        "\n",
        "        elif opc == 6:\n",
        "            limpiar_pantalla ()\n",
        "            eliminar_reg ()\n",
        "\n",
        "        elif opc == 7:\n",
        "            limpiar_pantalla ()\n",
        "            eliminar_all_regs ()\n",
        "\n",
        "        elif opc < 0 or opc > 7:\n",
        "            limpiar_pantalla ()\n",
        "            print(\"\\n\")\n",
        "            print(\"Ingrese un numero dentro del rango de opciones...\")\n",
        "            print(\"\\n\")\n",
        "        elif opc == 0:\n",
        "            limpiar_pantalla ()\n",
        "            print(\"Finalizado...\")"
      ]
    }
  ],
  "metadata": {
    "colab": {
      "provenance": [],
      "authorship_tag": "ABX9TyP6JpuJksI+eFqeYUpwDU1q",
      "include_colab_link": true
    },
    "kernelspec": {
      "display_name": "Python 3",
      "name": "python3"
    },
    "language_info": {
      "name": "python"
    }
  },
  "nbformat": 4,
  "nbformat_minor": 0
}