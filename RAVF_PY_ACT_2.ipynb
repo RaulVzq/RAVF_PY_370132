{
  "nbformat": 4,
  "nbformat_minor": 0,
  "metadata": {
    "colab": {
      "provenance": [],
      "authorship_tag": "ABX9TyMxip6LaJlXUcDYIUqs8FPD",
      "include_colab_link": true
    },
    "kernelspec": {
      "name": "python3",
      "display_name": "Python 3"
    },
    "language_info": {
      "name": "python"
    }
  },
  "cells": [
    {
      "cell_type": "markdown",
      "metadata": {
        "id": "view-in-github",
        "colab_type": "text"
      },
      "source": [
        "<a href=\"https://colab.research.google.com/github/RaulVzq/RAVF_PY_370132/blob/main/RAVF_PY_ACT_2.ipynb\" target=\"_parent\"><img src=\"https://colab.research.google.com/assets/colab-badge.svg\" alt=\"Open In Colab\"/></a>"
      ]
    },
    {
      "cell_type": "markdown",
      "source": [
        "Ejercicio 1.- Programa en Python que lea 2 números enteros, usar una condición y analizar los dos números y desplegar cual de los números es el mayor."
      ],
      "metadata": {
        "id": "rx0d7H6uKBCc"
      }
    },
    {
      "cell_type": "code",
      "execution_count": 29,
      "metadata": {
        "id": "POMBuRUAJ9_7",
        "colab": {
          "base_uri": "https://localhost:8080/"
        },
        "outputId": "3e731e32-3647-4948-c326-6ee9d3c69609"
      },
      "outputs": [
        {
          "output_type": "stream",
          "name": "stdout",
          "text": [
            "Ingrese un primer numero: 67\n",
            "Ingrese un segundo numero: 999\n",
            "999 es mayor que 67\n"
          ]
        }
      ],
      "source": [
        "num1 = 0\n",
        "num2 = 0\n",
        "\n",
        "num1 = int(input(\"Ingrese un primer numero: \"))\n",
        "num2 = int(input(\"Ingrese un segundo numero: \"))\n",
        "\n",
        "if num1 > num2:\n",
        "  print(f\"{num1} es mayor que {num2}\")\n",
        "\n",
        "if num2 > num1:\n",
        "  print(f\"{num2} es mayor que {num1}\")\n"
      ]
    },
    {
      "cell_type": "markdown",
      "source": [
        "Ejercicio 2.- Programa en PythonAlgoritmo que lea 4 calificaciones de un alumno, calcular y desplegar el promedio acompañado de la leyenda \"APROBADO\" o \"REPROBADO\"."
      ],
      "metadata": {
        "id": "cwyvpxfDKBZD"
      }
    },
    {
      "cell_type": "code",
      "source": [
        "calif1 = 0\n",
        "calif2 = 0\n",
        "calif3 = 0\n",
        "calif4 = 0\n",
        "prom = 0\n",
        "\n",
        "calif1 = int(input(\"Ingrese la calificacion en calculo: \"))\n",
        "calif2 = int(input(\"Ingrese la calificacion en ecuaciones: \"))\n",
        "calif3 = int(input(\"Ingrese la calificacion en electricidad: \"))\n",
        "calif4 = int(input(\"Ingrese la calificacion en programacion: \"))\n",
        "\n",
        "prom = (calif1 + calif2 + calif3 + calif4)/4\n",
        "\n",
        "if prom >= 60 and prom <= 100:\n",
        "  print(f\"APROBADO con calificacion de {prom}\")\n",
        "\n",
        "if prom >=0 and prom <= 59:\n",
        "  print(f\"REPROBADO con la calificacion de {prom}\")\n",
        "\n",
        "if prom < 0 or prom > 100:\n",
        "  print(f\"ERROR de promedio {prom}\")"
      ],
      "metadata": {
        "id": "pKmuSRW_KBsi",
        "colab": {
          "base_uri": "https://localhost:8080/"
        },
        "outputId": "eeb3384d-6b54-4a27-db45-e9497e056ef2"
      },
      "execution_count": 30,
      "outputs": [
        {
          "output_type": "stream",
          "name": "stdout",
          "text": [
            "Ingrese la calificacion en calculo: 63\n",
            "Ingrese la calificacion en ecuaciones: 74\n",
            "Ingrese la calificacion en electricidad: 81\n",
            "Ingrese la calificacion en programacion: 39\n",
            "APROBADO con calificacion de 64.25\n"
          ]
        }
      ]
    },
    {
      "cell_type": "markdown",
      "source": [
        "Ejercicio 3.- Programa en Python Algoritmo que a través de opciones (1.- HOMBRE 2.- MUJER ) preguntar al usuario cual es su sexo y desplegar la leyenda “HOMBRE ”, “MUJER”."
      ],
      "metadata": {
        "id": "1R3HpwviKB_K"
      }
    },
    {
      "cell_type": "code",
      "source": [
        "res = 0\n",
        "\n",
        "print(\"Ingrese su genero:\")\n",
        "print(\"1.- Hombre\")\n",
        "print(\"2.- Mujer\")\n",
        "res = int(input())\n",
        "\n",
        "if res > 0 and res < 2:\n",
        "  print(\"HOMBRE\")\n",
        "\n",
        "if res > 1 and res < 3:\n",
        "  print(\"MUJER\")"
      ],
      "metadata": {
        "id": "hdkN_b-oKCT4",
        "colab": {
          "base_uri": "https://localhost:8080/"
        },
        "outputId": "4c1587fe-98d1-45bd-bd5d-f2f4c165684b"
      },
      "execution_count": 32,
      "outputs": [
        {
          "output_type": "stream",
          "name": "stdout",
          "text": [
            "Ingrese su genero:\n",
            "1.- Hombre\n",
            "2.- Mujer\n",
            "1\n",
            "HOMBRE\n"
          ]
        }
      ]
    },
    {
      "cell_type": "markdown",
      "source": [
        "Ejercicio 4.- Programa en Python que lea un número entero, y desplegar si el número es “PAR” o “IMPAR”."
      ],
      "metadata": {
        "id": "yAqqi24kKC31"
      }
    },
    {
      "cell_type": "code",
      "source": [
        "num = 0\n",
        "\n",
        "num = int(input(\"Ingrese un numero: \"))\n",
        "\n",
        "if num % 2 == 0:\n",
        "  print(f\"El numero {num} es PAR\")\n",
        "\n",
        "if num % 2 > 0:\n",
        "  print(f\"El numero {num} es IMPAR\")"
      ],
      "metadata": {
        "id": "q9hpqm6hKDNI",
        "colab": {
          "base_uri": "https://localhost:8080/"
        },
        "outputId": "833a05d9-c50b-437e-bc4e-5be78af89282"
      },
      "execution_count": 33,
      "outputs": [
        {
          "output_type": "stream",
          "name": "stdout",
          "text": [
            "Ingrese un numero: 85\n",
            "El numero 85 es IMPAR\n"
          ]
        }
      ]
    },
    {
      "cell_type": "markdown",
      "source": [
        "Ejercicio 5.- Programa en Python que lea 2 números enteros, usar una condición y analizar los dos números y desplegar cual de los números es el mayor.\n",
        "\n"
      ],
      "metadata": {
        "id": "8Fus8cXdKDoE"
      }
    },
    {
      "cell_type": "code",
      "source": [
        "num1 = 0\n",
        "num2 = 0\n",
        "\n",
        "num1 = int(input(\"Ingrese un primer numero: \"))\n",
        "num2 = int(input(\"Ingrese un segundo numero: \"))\n",
        "\n",
        "if num1 > num2:\n",
        "  print(f\"{num1} es mayor que {num2}\")\n",
        "else:\n",
        "  print(f\"{num2} es mayor que {num1}\")"
      ],
      "metadata": {
        "id": "YvWBf59pKD85",
        "colab": {
          "base_uri": "https://localhost:8080/"
        },
        "outputId": "c683b1ab-84ed-4252-d6c2-9c5e24a83d10"
      },
      "execution_count": 34,
      "outputs": [
        {
          "output_type": "stream",
          "name": "stdout",
          "text": [
            "Ingrese un primer numero: 100\n",
            "Ingrese un segundo numero: 546\n",
            "546 es mayor que 100\n"
          ]
        }
      ]
    },
    {
      "cell_type": "markdown",
      "source": [
        "Ejercicio 6.-  Programa en Python que lea 4 calificaciones de un alumno, calcular y desplegar el promedio acompañado de la leyenda APROBADO o REPROBADO."
      ],
      "metadata": {
        "id": "qZbkpuilKEgS"
      }
    },
    {
      "cell_type": "code",
      "source": [
        "calif1 = 0\n",
        "calif2 = 0\n",
        "calif3 = 0\n",
        "calif4 = 0\n",
        "prom = 0\n",
        "\n",
        "calif1 = int(input(\"Ingrese la calificacion en calculo: \"))\n",
        "calif2 = int(input(\"Ingrese la calificacion en ecuaciones: \"))\n",
        "calif3 = int(input(\"Ingrese la calificacion en electricidad: \"))\n",
        "calif4 = int(input(\"Ingrese la calificacion en programacion: \"))\n",
        "\n",
        "prom = (calif1 + calif2 + calif3 + calif4)/4\n",
        "\n",
        "if prom >= 60 and prom <= 100:\n",
        "  print(f\"APROBADO con calificacion de {prom}\")\n",
        "else:\n",
        "  if prom >=0 and prom <= 59:\n",
        "    print(f\"REPROBADO con la calificacion de {prom}\")\n",
        "  else:\n",
        "    if prom < 0 or prom > 100:\n",
        "      print(f\"ERROR de promedio {prom}\")\n"
      ],
      "metadata": {
        "id": "aUZapscWKE0o",
        "colab": {
          "base_uri": "https://localhost:8080/"
        },
        "outputId": "82d8d1a0-d665-450b-bf28-8756d6c6134b"
      },
      "execution_count": 35,
      "outputs": [
        {
          "output_type": "stream",
          "name": "stdout",
          "text": [
            "Ingrese la calificacion en calculo: 25\n",
            "Ingrese la calificacion en ecuaciones: 38\n",
            "Ingrese la calificacion en electricidad: 41\n",
            "Ingrese la calificacion en programacion: 100\n",
            "REPROBADO con la calificacion de 51.0\n"
          ]
        }
      ]
    },
    {
      "cell_type": "markdown",
      "source": [
        "Ejercicio 7.- Programa en Python que a través de opciones (1.- HOMBRE 2.- MUJER ) preguntar al usuario cual es su sexo y desplegar la leyenda “HOMBRE ”, “MUJER”.\n",
        "\n"
      ],
      "metadata": {
        "id": "Cdjuww8gKFI-"
      }
    },
    {
      "cell_type": "code",
      "source": [
        "res = 0\n",
        "\n",
        "print(\"Ingrese su genero:\")\n",
        "print(\"1.- Hombre\")\n",
        "print(\"2.- Mujer\")\n",
        "res = int(input())\n",
        "\n",
        "if res > 0 and res < 2:\n",
        "  print(\"HOMBRE\")\n",
        "else:\n",
        "  if res > 1 and res < 3:\n",
        "    print(\"MUJER\")"
      ],
      "metadata": {
        "id": "_eIl5TS-KF38",
        "colab": {
          "base_uri": "https://localhost:8080/"
        },
        "outputId": "7b369dd5-54e4-4d64-81fe-708c70060314"
      },
      "execution_count": 36,
      "outputs": [
        {
          "output_type": "stream",
          "name": "stdout",
          "text": [
            "Ingrese su genero:\n",
            "1.- Hombre\n",
            "2.- Mujer\n",
            "1\n",
            "HOMBRE\n"
          ]
        }
      ]
    },
    {
      "cell_type": "markdown",
      "source": [
        "Ejercicio 8.-  Programa en Python que lea un número entero, y desplegar si el número es “PAR” o “IMPAR” NOTA: EJERCICIOS PARA SER RESUELTOS USANDO EXCLUSIVAMENTE CONDICIONES COMPUESTO."
      ],
      "metadata": {
        "id": "fNM-UdaWKGaC"
      }
    },
    {
      "cell_type": "code",
      "source": [
        "num = 0\n",
        "\n",
        "num = int(input(\"Ingrese un numero: \"))\n",
        "\n",
        "if num % 2 == 0:\n",
        "  print(f\"El numero {num} es PAR\")\n",
        "else:\n",
        "  print(f\"El numero {num} es IMPAR\")"
      ],
      "metadata": {
        "id": "YIKG2en9KGqq",
        "colab": {
          "base_uri": "https://localhost:8080/"
        },
        "outputId": "486435b4-039d-4cfa-bd12-a4bbbb13b015"
      },
      "execution_count": 37,
      "outputs": [
        {
          "output_type": "stream",
          "name": "stdout",
          "text": [
            "Ingrese un numero: 44\n",
            "El numero 44 es PAR\n"
          ]
        }
      ]
    }
  ]
}