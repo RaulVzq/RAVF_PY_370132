{
  "cells": [
    {
      "cell_type": "markdown",
      "metadata": {
        "id": "view-in-github",
        "colab_type": "text"
      },
      "source": [
        "<a href=\"https://colab.research.google.com/github/RaulVzq/RAVF_PY_370132/blob/main/RAVF_PY_ACT_3.ipynb\" target=\"_parent\"><img src=\"https://colab.research.google.com/assets/colab-badge.svg\" alt=\"Open In Colab\"/></a>"
      ]
    },
    {
      "cell_type": "markdown",
      "metadata": {
        "id": "4SqRlOa7cHDS"
      },
      "source": [
        "1.- Algoritmo que lea 3 calificaciones calcule el promedio del alumno y desplegar:"
      ]
    },
    {
      "cell_type": "code",
      "execution_count": null,
      "metadata": {
        "id": "sUT72RbKcHai"
      },
      "outputs": [],
      "source": [
        "calif1 = int(input(\"Ingrese la calificacion del parcial 1: \"))\n",
        "calif2 = int(input(\"Ingrese la calificacion del parcial 2: \"))\n",
        "calif3 = int(input(\"Ingrese la calificacion del parcial 3: \"))\n",
        "\n",
        "prom = (calif1 + calif2 + calif3)/3\n",
        "\n",
        "if (prom < 30):\n",
        "    print(f\"REPETIR, con calificacion de: {prom}\")\n",
        "elif (prom < 60):\n",
        "    print(f\"EXTRAORDINARIO, con calificacion de: {prom}\")\n",
        "elif (prom < 70):\n",
        "    print(f\"SUFICIENTE, con calificacion de: {prom}\")\n",
        "elif (prom < 80):\n",
        "    print(f\"REGULAR, con calificacion de: {prom}\")\n",
        "elif (prom < 90):\n",
        "    print(f\"BIEN, con calificacion de: {prom}\")\n",
        "elif (prom < 98):\n",
        "    print(f\"MUY BIEN, con calificacion de: {prom}\")\n",
        "elif (prom <= 100):\n",
        "    print(f\"EXCELENTE, con calificacion de: {prom}\")\n",
        "else:\n",
        "    print(f\"ERROR DE PROMEDIO, {prom}\")\n"
      ]
    },
    {
      "cell_type": "markdown",
      "metadata": {
        "id": "-UqO5pehcV8R"
      },
      "source": [
        "2.- Algoritmo que sirva para calcular el salario semanal de un trabajador donde se obtiene como dato de entrada las horas semanales trabajadas, el salario por hora."
      ]
    },
    {
      "cell_type": "code",
      "execution_count": null,
      "metadata": {
        "id": "lZ_qal94cWZJ"
      },
      "outputs": [],
      "source": [
        "sal_nor= 0\n",
        "sal_ext = 0\n",
        "sal_tot = 0\n",
        "horas_dob = 0\n",
        "horas_trip = 0\n",
        "\n",
        "horast = int(input(\"Ingrese las horas trabajadas en la semana: \"))\n",
        "sal_hor = int(input(\"Ingrese su salario por hora: \"))\n",
        "\n",
        "if horast <= 40:\n",
        "  sal_nor = sal_hor\n",
        "  sal_tot = sal_hor * horast\n",
        "  sal_ext = 0\n",
        "  print(f\"Salario por hora: {sal_hor}, Horas trabajadas {horast}, Salario normal: {sal_nor}, Salario extra: {sal_ext}, Salario total Semanal: {sal_tot}\")\n",
        "\n",
        "elif horast <= 49:\n",
        "  horas_dob = horast - 40\n",
        "  sal_nor = sal_hor\n",
        "  sal_ext = (horas_dob * 2) * sal_hor\n",
        "  sal_tot = (sal_nor * 40) + sal_ext\n",
        "  print(f\"Salario por hora: {sal_hor}, Horas trabajadas {horast}, Salario normal: {sal_nor}, Salario extra: {sal_ext}, Salario total Semanal: {sal_tot}\")\n",
        "\n",
        "elif horast >= 50:\n",
        "  horas_dob = horast - 40\n",
        "  horas_trip = horast - 49\n",
        "  sal_nor = sal_hor\n",
        "  sal_ext = ((horas_dob * 2) * sal_hor) + ((horas_trip * 3) * sal_hor)\n",
        "  sal_tot = (sal_nor * 40) + sal_ext\n",
        "  print(f\"Salario por hora: {sal_hor}, Horas trabajadas {horast}, Salario normal: {sal_nor}, Salario extra: {sal_ext}, Salario total Semanal: {sal_tot}\")\n"
      ]
    },
    {
      "cell_type": "markdown",
      "metadata": {
        "id": "W0O2gba2cWuZ"
      },
      "source": [
        "3.- Algoritmo que sirva para desplegar el Total de una llamada telefónica donde se pide como datos de entrada los minutos y el tipo de llamada, se cobra de la siguiente manera:\n",
        "\n",
        "1.- Llamada Local $3.00 sin límite de tiempo\n",
        "\n",
        "2.- Llamada Nacional  $7.00 por los 3 primeros minutos y  $2.00 minuto adicional\n",
        "\n",
        "3.- Llamada Internacional  $9.00 por los 2 primeros minutos y  $4.00 minuto adicional\n",
        "\n",
        "Desplegar, Subtotal,Iva (16%) y Total."
      ]
    },
    {
      "cell_type": "code",
      "execution_count": null,
      "metadata": {
        "id": "2LuVp0gecW_y"
      },
      "outputs": [],
      "source": [
        "opc = 0\n",
        "mins= 0\n",
        "sub_tot = 0\n",
        "iva = 0\n",
        "tot = 0\n",
        "\n",
        "print(\"BIENVENIDO A MOVISTAR\")\n",
        "opc = int(input(\"SELECCIONE UN OPCION DE LLAMADA: \\n1.- Llamada Local (SIN LIMITE), \\n2.- Llamada Nacional, \\n3.- Llamada Internacional \\n\"))\n",
        "mins = int(input(\"Cuantos minutos necesita para llamar?: \\n\"))\n",
        "\n",
        "if opc == 1:\n",
        "\n",
        "  sub_tot = 3.00\n",
        "  iva = (3.00 * 0.16)\n",
        "  tot = (sub_tot + iva)\n",
        "  print(f\"Subtotal: {sub_tot}, IVA: {iva}, Total: {tot}\")\n",
        "\n",
        "elif opc == 2:\n",
        "\n",
        "  if mins <= 3:\n",
        "    sub_tot = 7.00\n",
        "    iva = (sub_tot * 0.16)\n",
        "    tot = (sub_tot + iva)\n",
        "    print(f\"Subtotal: {sub_tot}, IVA: {iva}, Total: {tot}\")\n",
        "  elif mins > 3:\n",
        "    mins_ext = (mins -  3)\n",
        "    din_ext = (mins_ext * 2)\n",
        "    sub_tot = (7 + din_ext)\n",
        "    iva = (sub_tot * 0.16)\n",
        "    tot = (sub_tot + iva)\n",
        "    print(f\"Subtotal: {sub_tot}, IVA: {iva}, Total: {tot}\")\n",
        "\n",
        "elif opc == 3:\n",
        "\n",
        "  if mins <= 2:\n",
        "    sub_tot = 9.00\n",
        "    iva = (sub_tot * 0.16)\n",
        "    tot = (sub_tot + iva)\n",
        "    print(f\"Subtotal: {sub_tot}, IVA: {iva}, Total: {tot}\")\n",
        "  elif mins > 2:\n",
        "    mins_ext = (mins - 2)\n",
        "    din_ext = (mins_ext * 4)\n",
        "    sub_tot = (9 + din_ext)\n",
        "    iva = (sub_tot * 0.16)\n",
        "    tot = (sub_tot + iva)\n",
        "    print(f\"Subtotal: {sub_tot}, IVA: {iva}, Total: {tot}\")"
      ]
    },
    {
      "cell_type": "markdown",
      "metadata": {
        "id": "iSsRYq9icXOp"
      },
      "source": [
        "4.- Algoritmo que sirva para calcular el Total a pagar por consumo de agua, donde el dato de entrada son los M3 de agua consumidos, Tomar en cuenta que se cobra escalonada de la Siguiente manera:"
      ]
    },
    {
      "cell_type": "code",
      "execution_count": null,
      "metadata": {
        "id": "Drho857icXiJ"
      },
      "outputs": [],
      "source": [
        "consumo = 0\n",
        "cons_adi = 0\n",
        "cost_adi = 0\n",
        "sub_tot = 0\n",
        "tot = 0\n",
        "iva = 0\n",
        "\n",
        "consumo = int(input(\"Ingrese la cantidad de agua que ha consumido en metros cubicos (M3):\\n \"))\n",
        "\n",
        "if consumo >= 0 and consumo <= 4:\n",
        "  sub_tot = 50\n",
        "  iva = (sub_tot * 0.16)\n",
        "  tot = (sub_tot + iva)\n",
        "  print(f\"Subtotal: {sub_tot}, Iva: {iva}, Total: {tot}\")\n",
        "\n",
        "elif consumo >= 5 and consumo <= 15:\n",
        "  cons_adi = (consumo - 4)\n",
        "  cost_adi = (cons_adi * 8)\n",
        "  sub_tot = (50 + cost_adi)\n",
        "  iva = (sub_tot * 0.16)\n",
        "  tot = (sub_tot + iva)\n",
        "  print(f\"Subtotal: {sub_tot}, Iva: {iva}, Total: {tot}\")\n",
        "\n",
        "elif consumo >= 16 and consumo <= 50:\n",
        "   cons_adi = (consumo - 15)\n",
        "   cost_adi = (cons_adi * 10)\n",
        "   sub_tot = (50 + 80 + cost_adi)\n",
        "   iva = (sub_tot * 0.16)\n",
        "   tot = (sub_tot + iva)\n",
        "   print(f\"Subtotal: {sub_tot}, Iva: {iva}, Total: {tot}\")\n",
        "\n",
        "elif consumo >= 51:\n",
        "   cons_adi = (consumo - 50)\n",
        "   cost_adi = (cons_adi * 11)\n",
        "   sub_tot = (50 + 80 + 340 + cost_adi)\n",
        "   iva = (sub_tot * 0.16)\n",
        "   tot = (sub_tot + iva)\n",
        "   print(f\"Subtotal: {sub_tot}, Iva: {iva}, Total: {tot}\")\n"
      ]
    },
    {
      "cell_type": "markdown",
      "metadata": {
        "id": "byUuE-zncX3J"
      },
      "source": [
        "5- En la materia de Metodología de la programación se aplican 5 exámenes, calcular el promedio final de la materia donde la calificación menor de los exámenes se anula y el promedio se calcula en base a 4 exámenes.\n",
        "Desplegar el promedio final."
      ]
    },
    {
      "cell_type": "code",
      "execution_count": null,
      "metadata": {
        "id": "zq8nCXhZcYGZ"
      },
      "outputs": [],
      "source": [
        "calif1 = 0\n",
        "calif2 = 0\n",
        "calif3 = 0\n",
        "calif4 = 0\n",
        "calif5 = 0\n",
        "prom = 0\n",
        "\n",
        "calif1 = int(input(\"Ingrese la calificacion del primer examen: \"))\n",
        "calif2 = int(input(\"Ingrese la calificacion del segundo examen: \"))\n",
        "calif3 = int(input(\"Ingrese la calificacion del tercer examen: \"))\n",
        "calif4 = int(input(\"Ingrese la calificacion del cuarto examen: \"))\n",
        "calif5 = int(input(\"Ingrese la calificacion del quinto examen: \"))\n",
        "\n",
        "if calif1 < calif2 and calif1 < calif3 and calif1 < calif4 and calif1 < calif5:\n",
        "  prom = (calif2 + calif3 + calif4 + calif5)/4\n",
        "  print(f\"La calificacion del alumno es de: {prom}\")\n",
        "  print(f\"Y se excluyo el primer parcial del promedio final con calificacion de: {calif1}\")\n",
        "\n",
        "elif calif2 < calif1 and calif2 < calif3 and calif2 < calif4 and calif2 < calif5:\n",
        "   prom = (calif1 + calif3 + calif4 + calif5)/4\n",
        "   print(f\"La calificacion del alumno es de: {prom}\")\n",
        "   print(f\"Y se excluyo el segundo parcial del promedio final con calificacion de: {calif2}\")\n",
        "\n",
        "elif calif3 < calif1 and calif3 < calif2 and calif3 < calif4 and calif3 < calif5:\n",
        "   prom = (calif1 + calif2 + calif4 + calif5)/4\n",
        "   print(f\"La calificacion del alumno es de: {prom}\")\n",
        "   print(f\"Y se excluyo el tercer parcial del promedio final con calificacion de: {calif3}\")\n",
        "\n",
        "elif calif4 < calif1 and calif4 < calif2 and calif4 < calif3 and calif4 < calif5:\n",
        "   prom = (calif1 + calif2 + calif3 + calif5)/4\n",
        "   print(f\"La calificacion del alumno es de: {prom}\")\n",
        "   print(f\"Y se excluyo el cuarto parcial del promedio final con calificacion de: {calif4}\")\n",
        "\n",
        "elif calif5 < calif1 and calif5 < calif2 and calif5 < calif3 and calif5 < calif4:\n",
        "   prom = (calif1 + calif2 + calif3 + calif4)/4\n",
        "   print(f\"La calificacion del alumno es de: {prom}\")\n",
        "   print(f\"Y se excluyo el quinto parcial del promedio final con la calificacion de: {calif5}\")\n"
      ]
    },
    {
      "cell_type": "markdown",
      "metadata": {
        "id": "h7Tfn_NGcYaR"
      },
      "source": [
        "6.- Algoritmo que sirva para el juego del CHINCHAMPU (Piedra, Papel, Tijera) para 1 jugador y la computadora, (usar condición anidada)"
      ]
    },
    {
      "cell_type": "code",
      "execution_count": null,
      "metadata": {
        "id": "0P4zTE_icYuh"
      },
      "outputs": [],
      "source": [
        "import random\n",
        "\n",
        "aleat = random.randrange (1, 4)\n",
        "pc = \"\"\n",
        "\n",
        "print(\"1.- Piedra \\n2.- Papel \\n3.- Tijeras\")\n",
        "opc = int(input(\"Escoje una opcion: \"))\n",
        "\n",
        "\n",
        "if opc >= 1 and opc <= 3:\n",
        "    if opc == 1:\n",
        "      usuario = \"Piedra\"\n",
        "      print(f\"Elejiste: {usuario}\")\n",
        "    else:\n",
        "        if opc == 2:\n",
        "            usuario = \"Papel\"\n",
        "            print(f\"Elejiste: {usuario}\")\n",
        "        else:\n",
        "            if opc == 3:\n",
        "                usuario = \"Tijeras\"\n",
        "                print(f\"Elejiste: {usuario}\")\n",
        "\n",
        "    if aleat == 1:\n",
        "        pc = \"Piedra\"\n",
        "        print(f\"La computadora elijio: {pc}\")\n",
        "    else:\n",
        "        if aleat == 2:\n",
        "            pc = \"Papel\"\n",
        "            print(f\"La computadora elijio: {pc}\")\n",
        "        else:\n",
        "            if aleat == 3:\n",
        "                pc = \"Tijeras\"\n",
        "                print(f\"La computadora elijio: {pc}\")\n",
        "\n",
        "    if pc == \"Piedra\" and usuario == \"Papel\":\n",
        "        print(\"GANASTE, Papel envuelve piedra\")\n",
        "    else:\n",
        "        if pc == \"Papel\" and usuario == \"Tijeras\":\n",
        "            print(\"GANASTE, Tijeras corta el papel\")\n",
        "        else:\n",
        "            if pc == \"Tijeras\" and usuario == \"Piedra\":\n",
        "                print(\"GANASTE, la piedra rompe las tijeras\")\n",
        "\n",
        "    if usuario == \"Piedra\" and pc == \"Papel\":\n",
        "        print(\"PERDISTE, Papel envuelve piedra\")\n",
        "    else:\n",
        "        if usuario == \"Papel\" and pc == \"Tijeras\":\n",
        "            print(\"GANASTE, Tijeras corta el papel\")\n",
        "        else:\n",
        "            if usuario == \"Tijeras\" and pc == \"Piedra\":\n",
        "                print(\"GANASTE, la piedra rompe las tijeras\")\n",
        "            else:\n",
        "                if pc == usuario:\n",
        "                    print(\"EMPATE\")\n",
        "else:\n",
        "  print(\"Escoje una de las opciones antes mencionadas! (1, 2 o 3)\")"
      ]
    },
    {
      "cell_type": "markdown",
      "metadata": {
        "id": "Q8K9CbXecrgj"
      },
      "source": [
        "7.- Algoritmo que sirva para el juego del CHINCHAMPU (Piedra, Papel, Tijera) para 1 jugador y la computadora, (usar selección múltiple)"
      ]
    },
    {
      "cell_type": "code",
      "execution_count": null,
      "metadata": {
        "id": "bH8XXf2ucrzZ"
      },
      "outputs": [],
      "source": [
        "import random\n",
        "\n",
        "aleatorio = random.randrange(1, 4)\n",
        "pc = \"\"\n",
        "\n",
        "print(\"1.- PIEDRA \\n2.- PAPEL \\n3.- TIJERA\")\n",
        "opc = int(input(\"Escoje una opcion: \"))\n",
        "\n",
        "\n",
        "if opc >= 1 and opc <= 3:\n",
        "\n",
        "    if opc == 1:\n",
        "      usuario = \"Piedra\"\n",
        "      print(f\"Elejiste: {usuario}\")\n",
        "    elif opc == 2:\n",
        "      usuario = \"Papel\"\n",
        "      print(f\"Elejiste: {usuario}\")\n",
        "    elif opc == 3:\n",
        "      usuario = \"Tijera\"\n",
        "      print(f\"Elejiste: {usuario}\")\n",
        "\n",
        "    if aleatorio == 1:\n",
        "      pc = \"Piedra\"\n",
        "      print(f\"pc elijio: {pc}\")\n",
        "      print(\". . .\")\n",
        "    elif aleatorio == 2:\n",
        "      pc = \"Papel\"\n",
        "      print(f\"pc elijio: {pc}\")\n",
        "      print(\". . .\")\n",
        "    elif aleatorio == 3:\n",
        "      pc = \"Tijera\"\n",
        "      print(f\"pc elijio: {pc}\")\n",
        "      print(\". . .\")\n",
        "\n",
        "    if pc == \"Piedra\" and usuario == \"Papel\":\n",
        "      print(\"GANASTE, Papel le gana a Piedra \")\n",
        "    elif pc == \"Tijera\" and usuario == \"Piedra\":\n",
        "      print(\"GANASTE, Piedra rompe Tijeras\")\n",
        "    elif pc == \"Papel\" and usuario == \"Tijera\":\n",
        "      print(\"GANASTE, Las Tijeras cortan el Papel\")\n",
        "\n",
        "    if pc == \"Papel\" and usuario == \"Piedra\":\n",
        "      print(\"PERDISTE, Papel le gana a Piedra \")\n",
        "    elif pc == \"Tijera\" and usuario == \"Piedra\":\n",
        "      print(\"PERDISTE, Piedra rompe Tijeras\")\n",
        "    elif pc == \"Tijera\" and usuario == \"Papel\":\n",
        "      print(\"Perdiste, Las Tijeras cortan el Papel\")\n",
        "    elif pc == usuario:\n",
        "      print(\"EMPATE\")\n",
        "else:\n",
        "  print(\"Escoje una de las opciones antes mencionadas! (1, 2 o 3)\")\n"
      ]
    },
    {
      "cell_type": "markdown",
      "metadata": {
        "id": "CLl9FYICcsKD"
      },
      "source": [
        "8.- Una tienda de electrónica ofrece descuentos a sus clientes, dependiendo del tipo de producto que compren. Si el cliente compra una computadora, tiene un descuento del 5% en el precio de la computadora y un 10% de descuento en una impresora si la compra junto con la computadora. Si el cliente compra una televisión, tiene un descuento del 7% en el precio de la televisión y un 15% de descuento en una barra de sonido si la compra junto con la televisión. Si el cliente compra una consola de videojuegos, tiene un descuento del 10% en el precio de la consola y un 20% de descuento en un juego si lo compra junto con la consola. Escribe un programa que calcule el precio a pagar por un cliente, tomando en cuenta los descuentos correspondientes."
      ]
    },
    {
      "cell_type": "code",
      "execution_count": null,
      "metadata": {
        "id": "wcUj0IXwcsZb"
      },
      "outputs": [],
      "source": [
        "COMP = 1000\n",
        "IMP = 2000\n",
        "TV = 3000\n",
        "VID_JUE = 4000\n",
        "CONS = 5000\n",
        "\n",
        "print(\"BIENVENIDO A ESTERON \\nQue desea llevar?\\n\")\n",
        "opc = int(input(\"1.- COMPUTADORA (1000 $) \\n2.- Impresora (2000 $) \\n3.- Television (3000 $) \\n4.- Videojuegos (4000 $) \\n5.- Consola (5000 $)\\n\"))\n",
        "\n",
        "if opc == 1:\n",
        "  print(\"Has escojido la computadora!\")\n",
        "  opc2 = int(input(\"Desea llevar algo mas? \\n2.- Impresora (2000 $) \\n3.- Television (3000 $) \\n4.- Videojuegos (4000 $) \\n5.- Consola (5000 $)\\n0.- NO \\n\"))\n",
        "  if opc2 == 0:\n",
        "    desc = COMP * 0.05\n",
        "    cost1 = COMP - desc\n",
        "    print(f\"El precio a pagar es de {cost1} $\")\n",
        "  else:\n",
        "    if opc2 == 2:\n",
        "      print(\"Has escojido la impresora, ya llevas 2 articulos!\")\n",
        "      opc3 = int(input(\"Desea llevar algo mas? \\n3.- Television (3000 $) \\4.- Videojuegos (4000 $) \\n5.- Consola (5000 $) \\n0.- NO \\n\"))\n",
        "      if opc3 == 0:\n",
        "        desc = COMP * 0.05\n",
        "        cost1 = COMP - desc\n",
        "        desc2 = IMP * 0.10\n",
        "        cost2 = IMP - desc2\n",
        "        tot = cost1 + cost2\n",
        "        print(f\"El precio a pagar es de {tot}\")\n",
        "\n"
      ]
    },
    {
      "cell_type": "markdown",
      "metadata": {
        "id": "FJK_jAbgcsv5"
      },
      "source": [
        "9.- En una tienda de ropa, los precios de los productos cambian dependiendo de la temporada. Durante la temporada de verano, todos los productos tienen un descuento del 20%. Durante la temporada de invierno, los productos con etiqueta roja tienen un descuento del 30% y los productos con etiqueta verde tienen un descuento del 15%. Durante la temporada de primavera y otoño, los productos con etiqueta amarilla tienen un descuento del 10%. Escribe un programa que calcule el precio a pagar por un cliente, tomando en cuenta los descuentos correspondientes."
      ]
    },
    {
      "cell_type": "code",
      "execution_count": null,
      "metadata": {
        "id": "IFektKEtctK5"
      },
      "outputs": [],
      "source": []
    },
    {
      "cell_type": "markdown",
      "metadata": {
        "id": "WehIpjHkcuba"
      },
      "source": [
        "10.- Un restaurante ofrece descuentos a sus clientes, dependiendo del día de la semana y del tipo de menú que pidan. Los lunes, los clientes que pidan el menú del día tienen un descuento del 10%. Los martes, los clientes que pidan el menú infantil tienen un descuento del 20%. Los miércoles, los clientes que pidan el menú vegetariano tienen un descuento del 15%. Los jueves, los clientes que pidan el menú del chef tienen un descuento del 5%. Los viernes, los clientes que pidan el menú del día tienen un descuento del 5%. Los sábados y domingos no hay descuentos. Escribe un programa que calcule el precio a pagar por un cliente, tomando en cuenta los descuentos correspondientes."
      ]
    },
    {
      "cell_type": "code",
      "execution_count": null,
      "metadata": {
        "id": "Gml0gjJscu4Z"
      },
      "outputs": [],
      "source": []
    }
  ],
  "metadata": {
    "colab": {
      "provenance": [],
      "authorship_tag": "ABX9TyMywXnCO9kDUXkcY8QjlnVz",
      "include_colab_link": true
    },
    "kernelspec": {
      "display_name": "Python 3",
      "name": "python3"
    },
    "language_info": {
      "name": "python"
    }
  },
  "nbformat": 4,
  "nbformat_minor": 0
}