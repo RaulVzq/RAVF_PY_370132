{
  "nbformat": 4,
  "nbformat_minor": 0,
  "metadata": {
    "colab": {
      "provenance": [],
      "authorship_tag": "ABX9TyMCCga1ZGR6+YzvsyI72i8g",
      "include_colab_link": true
    },
    "kernelspec": {
      "name": "python3",
      "display_name": "Python 3"
    },
    "language_info": {
      "name": "python"
    }
  },
  "cells": [
    {
      "cell_type": "markdown",
      "metadata": {
        "id": "view-in-github",
        "colab_type": "text"
      },
      "source": [
        "<a href=\"https://colab.research.google.com/github/RaulVzq/RAVF_PY_370132/blob/main/RAVF_PY_ACT_4.ipynb\" target=\"_parent\"><img src=\"https://colab.research.google.com/assets/colab-badge.svg\" alt=\"Open In Colab\"/></a>"
      ]
    },
    {
      "cell_type": "markdown",
      "source": [
        "Actividad 4.- REALIZA LOS SIGUIENTES EJERCICIOS USANDO LA FORMA ADECUADA Y USANDO try Except NO DEBERA FALLAR EL PROGRAMA."
      ],
      "metadata": {
        "id": "sOT3HV18b4VA"
      }
    },
    {
      "cell_type": "markdown",
      "source": [
        "1.- Programa en python   que lea 3 calificaciones calcule el promedio del alumno y desplegar:"
      ],
      "metadata": {
        "id": "kuw77kqOb7fp"
      }
    },
    {
      "cell_type": "code",
      "source": [
        "try:\n",
        "   calif1 = int(input(\"Ingrese la calificacion del parcial 1: \"))\n",
        "   calif2 = int(input(\"Ingrese la calificacion del parcial 2: \"))\n",
        "   calif3 = int(input(\"Ingrese la calificacion del parcial 3: \"))\n",
        "except:\n",
        "  print(\"Ingrese solamente numeros\")\n",
        "else:\n",
        "  prom = (calif1 + calif2 + calif3)/3\n",
        "\n",
        "if (prom < 30):\n",
        "    print(f\"REPETIR, con calificacion de: {prom}\")\n",
        "elif (prom < 60):\n",
        "    print(f\"EXTRAORDINARIO, con calificacion de: {prom}\")\n",
        "elif (prom < 70):\n",
        "    print(f\"SUFICIENTE, con calificacion de: {prom}\")\n",
        "elif (prom < 80):\n",
        "    print(f\"REGULAR, con calificacion de: {prom}\")\n",
        "elif (prom < 90):\n",
        "    print(f\"BIEN, con calificacion de: {prom}\")\n",
        "elif (prom < 98):\n",
        "    print(f\"MUY BIEN, con calificacion de: {prom}\")\n",
        "elif (prom <= 100):\n",
        "    print(f\"EXCELENTE, con calificacion de: {prom}\")\n",
        "else:\n",
        "    print(f\"ERROR DE PROMEDIO, {prom}\")"
      ],
      "metadata": {
        "id": "jzY4l3oxb70x"
      },
      "execution_count": null,
      "outputs": []
    },
    {
      "cell_type": "markdown",
      "source": [
        "2.- Programa en Python que sirva para calcular el salario semanal de un trabajador donde se obtiene como dato de entrada las horas semanales trabajadas, el salario por hora. El programa deberá calcular el salario normal, salario extra y salario total, considerando lo siguiente:\n"
      ],
      "metadata": {
        "id": "q4RzEeA3cALd"
      }
    },
    {
      "cell_type": "code",
      "source": [
        "try:\n",
        "    horast = int(input(\"Ingrese las horas trabajadas en la semana: \"))\n",
        "    sal_hor = int(input(\"Ingrese su salario por hora: \"))\n",
        "except:\n",
        "  print(\"Ingrese valores numericos...\")\n",
        "else:\n",
        "    if horast <= 40:\n",
        "      sal_nor = sal_hor\n",
        "      sal_tot = sal_hor * horast\n",
        "      sal_ext = 0\n",
        "      print(f\"Salario por hora: {sal_hor}, Horas trabajadas {horast}, Salario normal: {sal_nor}, Salario extra: {sal_ext}, Salario total Semanal: {sal_tot}\")\n",
        "\n",
        "    elif horast <= 49:\n",
        "      horas_dob = horast - 40\n",
        "      sal_nor = sal_hor\n",
        "      sal_ext = (horas_dob * 2) * sal_hor\n",
        "      sal_tot = (sal_nor * 40) + sal_ext\n",
        "      print(f\"Salario por hora: {sal_hor}, Horas trabajadas {horast}, Salario normal: {sal_nor}, Salario extra: {sal_ext}, Salario total Semanal: {sal_tot}\")\n",
        "\n",
        "    elif horast >= 50:\n",
        "      horas_dob = horast - 40\n",
        "      horas_trip = horast - 49\n",
        "      sal_nor = sal_hor\n",
        "      sal_ext = ((horas_dob * 2) * sal_hor) + ((horas_trip * 3) * sal_hor)\n",
        "      sal_tot = (sal_nor * 40) + sal_ext\n",
        "      print(f\"Salario por hora: {sal_hor}, Horas trabajadas {horast}, Salario normal: {sal_nor}, Salario extra: {sal_ext}, Salario total Semanal: {sal_tot}\")\n"
      ],
      "metadata": {
        "id": "RFeo4-BtcD_T"
      },
      "execution_count": null,
      "outputs": []
    },
    {
      "cell_type": "markdown",
      "source": [
        "3.- Programa en Python que sirva para calcular el Total a pagar por consumo de agua, donde el dato de entrada son los M3 de agua consumidos, Tomar en cuenta que se cobra escalonada de la Siguiente manera:"
      ],
      "metadata": {
        "id": "3fESrxnIdaC9"
      }
    },
    {
      "cell_type": "code",
      "source": [
        "try:\n",
        "    consumo = int(input(\"Ingrese la cantidad de agua que ha consumido en metros cubicos (M3):\\n \"))\n",
        "except:\n",
        "  print(\"Ingrese valores numericos...\")\n",
        "else:\n",
        "    if consumo >= 0 and consumo <= 4:\n",
        "      sub_tot = 50\n",
        "      iva = (sub_tot * 0.16)\n",
        "      tot = (sub_tot + iva)\n",
        "      print(f\"Subtotal: {sub_tot}, Iva: {iva}, Total: {tot}\")\n",
        "\n",
        "    elif consumo >= 5 and consumo <= 15:\n",
        "      cons_adi = (consumo - 4)\n",
        "      cost_adi = (cons_adi * 8)\n",
        "      sub_tot = (50 + cost_adi)\n",
        "      iva = (sub_tot * 0.16)\n",
        "      tot = (sub_tot + iva)\n",
        "      print(f\"Subtotal: {sub_tot}, Iva: {iva}, Total: {tot}\")\n",
        "\n",
        "    elif consumo >= 16 and consumo <= 50:\n",
        "      cons_adi = (consumo - 15)\n",
        "      cost_adi = (cons_adi * 10)\n",
        "      sub_tot = (50 + 80 + cost_adi)\n",
        "      iva = (sub_tot * 0.16)\n",
        "      tot = (sub_tot + iva)\n",
        "      print(f\"Subtotal: {sub_tot}, Iva: {iva}, Total: {tot}\")\n",
        "\n",
        "    elif consumo >= 51:\n",
        "      cons_adi = (consumo - 50)\n",
        "      cost_adi = (cons_adi * 11)\n",
        "      sub_tot = (50 + 80 + 340 + cost_adi)\n",
        "      iva = (sub_tot * 0.16)\n",
        "      tot = (sub_tot + iva)\n",
        "      print(f\"Subtotal: {sub_tot}, Iva: {iva}, Total: {tot}\")"
      ],
      "metadata": {
        "id": "s6UlFgycddwK",
        "colab": {
          "base_uri": "https://localhost:8080/"
        },
        "outputId": "844c74c1-ed96-4401-c8b5-ddb7a7c7bb92"
      },
      "execution_count": null,
      "outputs": [
        {
          "output_type": "stream",
          "name": "stdout",
          "text": [
            "Ingrese la cantidad de agua que ha consumido en metros cubicos (M3):\n",
            " 55\n",
            "Subtotal: 525, Iva: 84.0, Total: 609.0\n"
          ]
        }
      ]
    },
    {
      "cell_type": "markdown",
      "source": [
        "4- En la materia de Metodología de la programación se aplican 5 exámenes, calcular el promedio final de la materia donde la calificación menor de los exámenes se anula y el promedio se calcula en base a 4 exámenes.\n",
        "\n",
        "Desplegar el promedio final. y cual es la mas baja que se elimino."
      ],
      "metadata": {
        "id": "JJu1ckPAdeB9"
      }
    },
    {
      "cell_type": "code",
      "source": [
        "try:\n",
        "    calif1 = int(input(\"Ingrese la calificacion del primer examen: \"))\n",
        "    calif2 = int(input(\"Ingrese la calificacion del segundo examen: \"))\n",
        "    calif3 = int(input(\"Ingrese la calificacion del tercer examen: \"))\n",
        "    calif4 = int(input(\"Ingrese la calificacion del cuarto examen: \"))\n",
        "    calif5 = int(input(\"Ingrese la calificacion del quinto examen: \"))\n",
        "except:\n",
        "  print(\"Ingrese valores numericos...\")\n",
        "else:\n",
        "    if calif1 < calif2 and calif1 < calif3 and calif1 < calif4 and calif1 < calif5:\n",
        "      prom = (calif2 + calif3 + calif4 + calif5)/4\n",
        "      print(f\"La calificacion del alumno es de: {prom}\")\n",
        "\n",
        "    elif calif2 < calif1 and calif2 < calif3 and calif2 < calif4 and calif2 < calif5:\n",
        "       prom = (calif1 + calif3 + calif4 + calif5)/4\n",
        "       print(f\"La calificacion del alumno es de: {prom}\")\n",
        "\n",
        "    elif calif3 < calif1 and calif3 < calif2 and calif3 < calif4 and calif3 < calif5:\n",
        "       prom = (calif1 + calif2 + calif4 + calif5)/4\n",
        "       print(f\"La calificacion del alumno es de: {prom}\")\n",
        "\n",
        "    elif calif4 < calif1 and calif4 < calif2 and calif4 < calif3 and calif4 < calif5:\n",
        "       prom = (calif1 + calif2 + calif3 + calif5)/4\n",
        "       print(f\"La calificacion del alumno es de: {prom}\")\n",
        "\n",
        "    elif calif5 < calif1 and calif5 < calif2 and calif5 < calif3 and calif5 < calif4:\n",
        "       prom = (calif1 + calif2 + calif3 + calif4)/4\n",
        "       print(f\"La calificacion del alumno es de: {prom}\")"
      ],
      "metadata": {
        "id": "1qLuW6rxdhXd",
        "colab": {
          "base_uri": "https://localhost:8080/"
        },
        "outputId": "f9921549-2020-4c1c-d617-1360c4f73592"
      },
      "execution_count": null,
      "outputs": [
        {
          "output_type": "stream",
          "name": "stdout",
          "text": [
            "Ingrese la calificacion del primer examen: 66\n",
            "Ingrese la calificacion del segundo examen: 61\n",
            "Ingrese la calificacion del tercer examen: 57\n",
            "Ingrese la calificacion del cuarto examen: 88\n",
            "Ingrese la calificacion del quinto examen: 99\n",
            "La calificacion del alumno es de: 78.5\n"
          ]
        }
      ]
    },
    {
      "cell_type": "markdown",
      "source": [
        "5.- Programa en Python que sirva para el juego del CHINCHAMPU (Piedra, Papel, Tijera) para 1 jugador y la computadora\n",
        "\n"
      ],
      "metadata": {
        "id": "0fdRgI7gdhub"
      }
    },
    {
      "cell_type": "code",
      "source": [
        "import random\n",
        "\n",
        "aleatorio = random.randrange(0, 3)\n",
        "pc = \"\"\n",
        "try:\n",
        "    print(\"0.- PIEDRA \\n1.- PAPEL \\n2.- TIJERA\")\n",
        "    opc = int(input(\"Escoje una opcion\"))\n",
        "except:\n",
        "  print(\"Ingrese la opcion mediante numeros (1,2,3)\")\n",
        "else:\n",
        "    if opc >= 0 and opc <= 2:\n",
        "        if opc == 0:\n",
        "          usuario = \"Piedra\"\n",
        "        elif opc == 1:\n",
        "          usuario = \"Papel\"\n",
        "        elif opc == 2:\n",
        "          usuario = \"Tijera\"\n",
        "        print(f\"Elejiste: {usuario}\")\n",
        "\n",
        "        if aleatorio == 0:\n",
        "          pc = \"Piedra\"\n",
        "        elif aleatorio == 1:\n",
        "          pc = \"Papel\"\n",
        "        elif aleatorio == 2:\n",
        "          pc = \"Tijera\"\n",
        "        print(f\"Elijio: {pc}\")\n",
        "        print(\". . .\")\n",
        "\n",
        "        if pc == \"Piedra\" and usuario == \"Papel\":\n",
        "          print(\"GANASTE, Papel le gana a Piedra \")\n",
        "        elif pc == \"Tijera\" and usuario == \"Piedra\":\n",
        "          print(\"GANASTE, Piedra rompe Tijeras\")\n",
        "        elif pc == \"Papel\" and usuario == \"Tijera\":\n",
        "          print(\"GANASTE, Las Tijeras cortan el Papel\")\n",
        "\n",
        "        if pc == \"Papel\" and usuario == \"Piedra\":\n",
        "          print(\"PERDISTE, Papel le gana a Piedra \")\n",
        "        elif pc == \"Tijera\" and usuario == \"Piedra\":\n",
        "          print(\"PERDISTE, Piedra rompe Tijeras\")\n",
        "        elif pc == \"Tijera\" and usuario == \"Papel\":\n",
        "          print(\"Perdiste, Las Tijeras cortan el Papel\")\n",
        "        elif pc == usuario:\n",
        "          print(\"EMPATE\")\n",
        "    else:\n",
        "      print(\"Ingrese un valor dentro del rango de opciones (0 al 2)\")"
      ],
      "metadata": {
        "id": "dymWVCEMdkBu",
        "colab": {
          "base_uri": "https://localhost:8080/"
        },
        "outputId": "7a69c668-1a7d-4742-ec93-c89344783106"
      },
      "execution_count": null,
      "outputs": [
        {
          "output_type": "stream",
          "name": "stdout",
          "text": [
            "0.- PIEDRA \n",
            "1.- PAPEL \n",
            "2.- TIJERA\n",
            "Escoje una opcionvkorrel\n",
            "Ingrese la opcion mediante numeros (1,2,3)\n"
          ]
        }
      ]
    },
    {
      "cell_type": "markdown",
      "source": [
        "6.- Programa en Python que lea 4 números enteros desplegar cuales el menor, cual es mayor\n",
        "\n"
      ],
      "metadata": {
        "id": "BukHscsNdkdb"
      }
    },
    {
      "cell_type": "code",
      "source": [
        "try:\n",
        "    num1 = int(input(\"Ingrese un primer numero: \"))\n",
        "    num2 = int(input(\"Ingrese un segundo numero: \"))\n",
        "    num3 = int(input(\"Ingrese un tercer numero: \"))\n",
        "    num4 = int(input(\"Ingrese un cuarto numero: \"))\n",
        "except:\n",
        "  print(\"Ingrese solamente numeros!\")\n",
        "else:\n",
        "    if num1 > num2 and num1 > num3 and num1 > num4:\n",
        "      print(f\"El numero mayor es: {num1}\")\n",
        "    elif num2 > num1 and num2 > num3 and num3 > num4:\n",
        "      print(f\"El numero mayor es: {num2}\")\n",
        "    elif num3 > num1 and num3 > num2 and num3 > num4:\n",
        "      print(f\"El numero mayor es: {num3}\")\n",
        "    elif num4 > num1 and num4 > num2 and num4 > num3:\n",
        "      print(f\"El numero mayor es: {num4}\")\n",
        "\n",
        "    if num1 < num2 and num1 < num3 and num1 < num4:\n",
        "      print(f\"El numero menor es: {num1}\")\n",
        "    elif num2 < num1 and num2 < num3 and num3 < num4:\n",
        "      print(f\"El numero menor es: {num2}\")\n",
        "    elif num3  < num1 and num3 < num2 and num3 < num4:\n",
        "      print(f\"El numero menor es: {num3}\")\n",
        "    elif num4 < num1 and num4 < num2 and num4 < num3:\n",
        "      print(f\"El numero menor es: {num4}\")\n"
      ],
      "metadata": {
        "id": "6xfSetcFdmhF",
        "colab": {
          "base_uri": "https://localhost:8080/"
        },
        "outputId": "6251c4cb-8413-45c0-8dd2-24fef6764f0b"
      },
      "execution_count": null,
      "outputs": [
        {
          "output_type": "stream",
          "name": "stdout",
          "text": [
            "Ingrese un primer numero: [[\n",
            "Ingrese solamente numeros!\n"
          ]
        }
      ]
    },
    {
      "cell_type": "markdown",
      "source": [
        "7.- Programa en Python que sirva para calcular el área de un triangulo, los datos de entrada deben ser forzosamente de tipo real\n",
        "\n"
      ],
      "metadata": {
        "id": "H2YCkW5pdmzm"
      }
    },
    {
      "cell_type": "code",
      "source": [
        "base = 0\n",
        "altura = 0\n",
        "resul = 0\n",
        "try:\n",
        "    base = int(input(\"Ingrese el altura de su triangulo (cm): \"))\n",
        "    altura = int(input(\"Ingrese el altura de su triangulo (cm): \"))\n",
        "except:\n",
        "  print(\"Ingrese solamente numeros!\")\n",
        "else:\n",
        "  resul = (base*altura)/2\n",
        "  print(f\"El area de su triangulo es: {resul}\")\n"
      ],
      "metadata": {
        "id": "pBezYADFdqy8",
        "colab": {
          "base_uri": "https://localhost:8080/"
        },
        "outputId": "a7887894-1487-49fd-9466-a31025d78aab"
      },
      "execution_count": null,
      "outputs": [
        {
          "output_type": "stream",
          "name": "stdout",
          "text": [
            "Ingrese el altura de su triangulo (cm): kdlñ\n",
            "Ingrese solamente numeros!\n"
          ]
        }
      ]
    },
    {
      "cell_type": "markdown",
      "source": [
        "8.- Programa en Python que sirva para calcular el área de un circulo\n",
        "\n"
      ],
      "metadata": {
        "id": "rxMZK2HxdrLT"
      }
    },
    {
      "cell_type": "code",
      "source": [
        "PI = 3.1416\n",
        "resul = 0\n",
        "rad = 0\n",
        "try:\n",
        "    rad = int(input(\"Ingrese el radio de su circulo (cm): \"))\n",
        "except:\n",
        "    print(\"Ingrese un valor numerico\")\n",
        "else:\n",
        "    resul = PI*(rad*rad)\n",
        "    print(f\"El area de su circulo es: {resul}\")"
      ],
      "metadata": {
        "id": "Uk-6S-HWdtlZ",
        "colab": {
          "base_uri": "https://localhost:8080/"
        },
        "outputId": "f5992348-8f12-446c-968d-a76e74b846c1"
      },
      "execution_count": null,
      "outputs": [
        {
          "output_type": "stream",
          "name": "stdout",
          "text": [
            "Ingrese el radio de su circulo (cm): kll\n",
            "Ingrese un valor numerico\n"
          ]
        }
      ]
    }
  ]
}