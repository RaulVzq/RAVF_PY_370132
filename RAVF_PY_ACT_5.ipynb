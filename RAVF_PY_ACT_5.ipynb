{
  "nbformat": 4,
  "nbformat_minor": 0,
  "metadata": {
    "colab": {
      "provenance": [],
      "authorship_tag": "ABX9TyMPfb4eLZSjojAo3mT8VX3h",
      "include_colab_link": true
    },
    "kernelspec": {
      "name": "python3",
      "display_name": "Python 3"
    },
    "language_info": {
      "name": "python"
    }
  },
  "cells": [
    {
      "cell_type": "markdown",
      "metadata": {
        "id": "view-in-github",
        "colab_type": "text"
      },
      "source": [
        "<a href=\"https://colab.research.google.com/github/RaulVzq/RAVF_PY_370132/blob/main/RAVF_PY_ACT_5.ipynb\" target=\"_parent\"><img src=\"https://colab.research.google.com/assets/colab-badge.svg\" alt=\"Open In Colab\"/></a>"
      ]
    },
    {
      "cell_type": "markdown",
      "source": [
        "ACTIVIDAD #5\n"
      ],
      "metadata": {
        "id": "jnzXKQnfxDP9"
      }
    },
    {
      "cell_type": "markdown",
      "source": [
        "1.- Programa en Python que genere 40 números aleatorios entre el 0 y 200, desplegar los números y la leyenda de cada número si es par o impar , la cantidad de los números pares e impares así como la suma de los números pares o impares."
      ],
      "metadata": {
        "id": "iU5SzG-Xw6Rn"
      }
    },
    {
      "cell_type": "code",
      "source": [
        "from random import randint\n",
        "\n",
        "rep = 41\n",
        "\n",
        "for i in range(rep):\n",
        "  num = randint(0,200)\n",
        "  if num % 2 == 0:\n",
        "    print(f\"{num} es par\")\n",
        "  else:\n",
        "    print(f\"{num} es impar\")"
      ],
      "metadata": {
        "id": "vA9xV7fzw6oL"
      },
      "execution_count": null,
      "outputs": []
    },
    {
      "cell_type": "markdown",
      "source": [
        "2.- Programa en Python que despliegue la tabla de multiplicar de un número dado (número entre el 1 y 20).\n",
        "\n"
      ],
      "metadata": {
        "id": "-RgUdiFVw7CJ"
      }
    },
    {
      "cell_type": "code",
      "source": [
        "from random import randint\n",
        "\n",
        "rep = 11\n",
        "\n",
        "try:\n",
        "    num = int(input(\"Ingrese un numero: \"))\n",
        "except:\n",
        "    print(\"Ingrese un numero. . .\")\n",
        "else:\n",
        "    for i in range(rep):\n",
        "      resp = (num*i)\n",
        "      print(f\"{num} x {i} = {resp}\")"
      ],
      "metadata": {
        "id": "GcetaIWMw7Vr"
      },
      "execution_count": null,
      "outputs": []
    },
    {
      "cell_type": "markdown",
      "source": [
        "3.- Programa en Python que lea una calificación, las calificación deberá estar en el rango de 0 a 100, si hay un error de captura, mostrar mensaje de error. con la calificación correcta mostrar msg de aprobado reprobado."
      ],
      "metadata": {
        "id": "URgLrjK3w7hY"
      }
    },
    {
      "cell_type": "code",
      "source": [
        "try:\n",
        "    calif = int(input(\"Ingrese una calificacion: \"))\n",
        "except:\n",
        "      print(\"ERROR DE DATO...\")\n",
        "else:\n",
        "      if calif >= 0 and calif <= 100:\n",
        "          if calif >= 60 and calif <= 100:\n",
        "              print(f\"Aprobado con {calif} \")\n",
        "          else:\n",
        "              if calif >= 0 and calif < 60:\n",
        "                  print(f\"Reprobado con {calif}\")\n",
        "      else:\n",
        "          print(\"ERROR DE PROMEDIO...\")"
      ],
      "metadata": {
        "id": "gKFjAcOLw73R"
      },
      "execution_count": null,
      "outputs": []
    },
    {
      "cell_type": "markdown",
      "source": [
        "4.- Programa en Python que lea n cantidad de números enteros dentro de un rango dado (> 0 ) , el programa deberá terminar cuando el usuario introduzca el número cero.\n",
        "\n",
        "desplegar la suma de números y la media."
      ],
      "metadata": {
        "id": "WVBGIUKCw8Yu"
      }
    },
    {
      "cell_type": "code",
      "source": [
        "suma = 0\n",
        "prom = 0\n",
        "i = 0\n",
        "num = 1\n",
        "\n",
        "while num != 0:\n",
        "    try:\n",
        "        num = int(input(\"Ingrese un numero: \"))\n",
        "    except:\n",
        "        print(\"Ingrese un valor numerico. . .\")\n",
        "    else:\n",
        "        suma = suma + num\n",
        "        i = i + 1\n",
        "\n",
        "prom = suma/i\n",
        "print(f\"La suma de todos los numeros ingresados es de: {suma}\")\n",
        "print(f\"La media de la suma de los numeros es igual a: {prom}\")"
      ],
      "metadata": {
        "id": "MSl50DpOowgF"
      },
      "execution_count": null,
      "outputs": []
    },
    {
      "cell_type": "markdown",
      "source": [
        "5.- Programa en Python que sirva para leer el promedio de una materia. donde el usuario tendrá un máximo de 3 oportunidades de cursar la materia, si el promedio es aprobado, felicitarlo y continuar el siguiente semestre, si promedio es reprobado deberá salir mensaje de repetir materia o es baja académica si ha reprobado 3 veces.\n",
        "\n"
      ],
      "metadata": {
        "id": "iKtzQR-mw9Bz"
      }
    },
    {
      "cell_type": "code",
      "source": [
        "par = 3\n",
        "mat = 0\n",
        "suma = 0\n",
        "prom = 0\n",
        "i = 1\n",
        "j = 0\n",
        "k = 1\n",
        "\n",
        "while i < 4:\n",
        "    for j in range(par):\n",
        "        mat = int(input(f\"Ingrese la calificacion del parcial {k} (INTENTO ({i})): \"))\n",
        "        suma = suma + mat\n",
        "        j = j + 1\n",
        "        k = k + 1\n",
        "    prom = suma/par\n",
        "    if prom >= 60 and prom <= 100 and i <= 3:\n",
        "        i = i + 1\n",
        "        print(f\"\\nFelicidades, has aprobado la materia en el intento ({i - 1}) con un promedio de: {prom}\")\n",
        "        i = 4\n",
        "    else:\n",
        "        if prom >= 0 and prom <= 60 and i == 1 or i == 2:\n",
        "            print(\"\\nHas reprobado, hay que recursar. . .\\n\")\n",
        "            i = i + 1\n",
        "            k = 1\n",
        "            prom = 0\n",
        "            suma = 0\n",
        "            mat = 0\n",
        "        else:\n",
        "            if prom >= 0 and prom <= 60 and i == 3:\n",
        "                i = i + 1\n",
        "                print(f\"\\nChales, has reprobado la materia en el intento ({i - 1}) y seras dado de baja con un promedio de {prom}. . .  \")\n"
      ],
      "metadata": {
        "id": "i29TMGrKw9Vs"
      },
      "execution_count": null,
      "outputs": []
    },
    {
      "cell_type": "markdown",
      "source": [
        "PARTE 2:"
      ],
      "metadata": {
        "id": "0PFVwip1w90Z"
      }
    },
    {
      "cell_type": "markdown",
      "source": [
        "1.- función que lea n cantidad de números hasta que el usuario lo desee, desplegar la suma de los números, media y valor de los números mayores y menores."
      ],
      "metadata": {
        "id": "Vpuzc3Idw-E-"
      }
    },
    {
      "cell_type": "code",
      "source": [
        "def leer_num ():\n",
        "\n",
        "    opc = 1\n",
        "    i = 0\n",
        "    suma = 0\n",
        "    num = 0\n",
        "    num_may = 0\n",
        "    num_men = 9223372036854775807\n",
        "\n",
        "    while opc == 1:\n",
        "        print(\"Quiere ingresar numeros?: \")\n",
        "        print(\"1.- Si\")\n",
        "        print(\"0.- No\")\n",
        "        try:\n",
        "            opc = int(input(\"\"))\n",
        "        except:\n",
        "            print(\"\\nIngrese valores numericos...\\n\")\n",
        "        else:\n",
        "            if opc == 1:\n",
        "                try:\n",
        "                    num = int(input(\"Ingrese un numero: \"))\n",
        "                except:\n",
        "                    print(\"\\nIngrese un valor numerico...\\n\")\n",
        "                else:\n",
        "                    i = i + 1\n",
        "                    suma = suma + num\n",
        "\n",
        "                    if num > num_may:\n",
        "                        num_may = num\n",
        "\n",
        "                    if num < num_men:\n",
        "                        num_men = num\n",
        "            else:\n",
        "                if opc == 0 and num == 0:\n",
        "                    print(\"Finalizado...\")\n",
        "\n",
        "        if num > 0 and opc == 0:\n",
        "            prom = suma / i\n",
        "\n",
        "            if prom > 0:\n",
        "                print(f\"La suma de todos los numeros es: {suma}\")\n",
        "                print(f\"La media de la suma de todos los numeros es: {prom:.2f}\")\n",
        "                print(f\"El numero mayor es: {num_may}\")\n",
        "                print(f\"El numero menor es: {num_men}\")\n",
        "    leer_num ()"
      ],
      "metadata": {
        "id": "mcu1_LCqw-U6"
      },
      "execution_count": null,
      "outputs": []
    },
    {
      "cell_type": "markdown",
      "source": [
        "2.- función que genere 15 números impares entre 10 y 60 o máximo de 25 números. desplegar la media de los pares y media de impares."
      ],
      "metadata": {
        "id": "nVgQhdwUw-7b"
      }
    },
    {
      "cell_type": "code",
      "source": [
        "import random"
      ],
      "metadata": {
        "id": "2Jt2Cot6nSdA"
      },
      "execution_count": null,
      "outputs": []
    },
    {
      "cell_type": "code",
      "source": [
        "def numeros_aleatorios ():\n",
        "\n",
        "    i = 0\n",
        "    j = 0\n",
        "    k = 0\n",
        "    num_impar = 0\n",
        "    sum_impar = 0\n",
        "    med_impar = 0\n",
        "    num_par = 0\n",
        "    sum_par = 0\n",
        "    med_par = 0\n",
        "\n",
        "    while i < 25 and num_impar < 15:\n",
        "        num_aleat = random.randint(10,60)\n",
        "\n",
        "        if num_aleat % 2 == 0:\n",
        "            print(f\"el numero: {num_aleat} es PAR.\")\n",
        "            sum_par = sum_par + num_aleat\n",
        "            j = j + 1\n",
        "            i = i + 1\n",
        "        else:\n",
        "            print(f\"el numero: {num_aleat} es IMPAR.\")\n",
        "            num_impar = num_impar + 1\n",
        "            sum_impar = sum_impar + num_aleat\n",
        "            k = k + 1\n",
        "            i = i + 1\n",
        "\n",
        "    med_par = sum_par / j\n",
        "    med_impar = sum_impar / k\n",
        "\n",
        "    print(f\"\\nLa cantidad de numeros pares es de: {sum_par}\")\n",
        "    print(f\"La media de la suma de los numeros pares es: {med_par:.2f}\")\n",
        "    print(f\"La cantidad de numeros impares es de: {sum_impar}\")\n",
        "    print(f\"La media de la suma de los numeros impares es de: {med_impar:.2f}\")\n",
        "\n",
        "    numeros_aleatorios ()"
      ],
      "metadata": {
        "id": "H2XFRwDUw_PM"
      },
      "execution_count": null,
      "outputs": []
    },
    {
      "cell_type": "markdown",
      "source": [
        "3.- función que sirva para leer y validar un número dentro de un rango dado por el usuario. repetir esta acción hasta que el usuario lo desee, desplegar cantidad de números y promedio de los números.."
      ],
      "metadata": {
        "id": "0_-sa8Sfw_m5"
      }
    },
    {
      "cell_type": "code",
      "source": [
        "def nums_rango ():\n",
        "    opc = 1\n",
        "    suma = 0\n",
        "    med = 0\n",
        "    j = 0\n",
        "    while opc == 1:\n",
        "        print(\"Desea agregar un rango de numeros?\")\n",
        "        print(\"1.- SI\")\n",
        "        print(\"0.- NO\")\n",
        "        try:\n",
        "            opc = int(input(\"\\n\"))\n",
        "        except:\n",
        "            print(\"Ingrese un numero...\")\n",
        "        else:\n",
        "            if opc == 1:\n",
        "                try:\n",
        "                    rangi = int(input(\"Ingrese el rango inicial: \"))\n",
        "                    rangfi = int(input(\"Ingrese el rango final: \"))\n",
        "                except:\n",
        "                    print(\"Ingrese un numero...\")\n",
        "                else:\n",
        "                    if rangi > rangfi:\n",
        "                         for i in range(rangfi, rangi + 1):\n",
        "                             print(f\"{i}\")\n",
        "                             j = j + 1\n",
        "                             suma = suma + i\n",
        "\n",
        "                         med = suma / j\n",
        "                         print(f\"\\nLa cantidad de numeros es: {j}\")\n",
        "                         print(f\"La suma de los numeros es de: {suma}\")\n",
        "                         print(f\"La media de la suma de estos numeros es de: {med:.2f}\")\n",
        "                    else:\n",
        "                         for i in range(rangi, rangfi + 1):\n",
        "                             print(f\"{i}\")\n",
        "                             j = j + 1\n",
        "                             suma = suma + i\n",
        "\n",
        "                         med = suma / j\n",
        "                         print(f\"\\nLa cantidad de numeros es: {j}\")\n",
        "                         print(f\"La suma de los numeros es de: {suma}\")\n",
        "                         print(f\"La media de la suma de estos numeros es de: {med:.2f}\")\n",
        "            else:\n",
        "                print(\"Finalizado...\")\n",
        "    nums_rango ()"
      ],
      "metadata": {
        "id": "S_oZMXAHxADB"
      },
      "execution_count": null,
      "outputs": []
    },
    {
      "cell_type": "markdown",
      "source": [
        "4.- función que reciba como parámetro los valores para el área de un triángulo y retorne su resultado"
      ],
      "metadata": {
        "id": "2FM4EGP0xAW5"
      }
    },
    {
      "cell_type": "code",
      "source": [
        "def retornar_area (base, altura):\n",
        "        area = (base*altura)/2\n",
        "        return area"
      ],
      "metadata": {
        "id": "76monIScxAvf"
      },
      "execution_count": null,
      "outputs": []
    },
    {
      "cell_type": "code",
      "source": [
        "def area_triangulo ():\n",
        "     while True:\n",
        "         try:\n",
        "            num1 = int(input(\"Ingrese la base de su triangulo: (cm)\"))\n",
        "            num2 = int(input(\"Ingrese el altura de su triangulo: (cm)\"))\n",
        "         except:\n",
        "            print(\"Ingrese un valor numerico...\")\n",
        "         else:\n",
        "            resultado = retornar_area(base=num1, altura=num2)\n",
        "            print(f\"El area del triagulo es: {resultado}\")\n",
        "            break\n",
        "area_triangulo ()"
      ],
      "metadata": {
        "id": "kdt74GEJnnyB"
      },
      "execution_count": null,
      "outputs": []
    },
    {
      "cell_type": "markdown",
      "source": [
        "5.- función que sirva para validar un número dentro de un rango dado."
      ],
      "metadata": {
        "id": "Vfj8HSexxBPf"
      }
    },
    {
      "cell_type": "code",
      "source": [
        "def vali_rang (dato):\n",
        "    if dato < 30 or dato > 70:\n",
        "        print(\"\\n\")\n",
        "        print(\"Ingrese exclusivamente numeros dentro del rango antes mencionado (30 - 70)...\")\n",
        "        print(\"\\n\")\n",
        "        return 0\n",
        "    else:\n",
        "        return 1"
      ],
      "metadata": {
        "id": "_tj5TOdnxBhe"
      },
      "execution_count": 1,
      "outputs": []
    },
    {
      "cell_type": "code",
      "source": [
        "prueba = 0\n",
        "while prueba == 0:\n",
        "    while True:\n",
        "        try:\n",
        "            print(\"Ingrese un numero que se encuentre el 30 y el 70: \")\n",
        "            num = int(input(\"\"))\n",
        "        except:\n",
        "            print(\"\\n\")\n",
        "            print(\"Ingrese solamente letras\")\n",
        "            print(\"\\n\")\n",
        "        else:\n",
        "            prueba = vali_rang (num)\n",
        "            break;\n",
        "\n",
        "print(f\"Tu numero es {num}, el cual si esta dentro del rango permitido...\")"
      ],
      "metadata": {
        "colab": {
          "base_uri": "https://localhost:8080/"
        },
        "id": "GZvOkx9yoJAI",
        "outputId": "0665a669-524d-4608-e76f-2e01e4ecef68"
      },
      "execution_count": 2,
      "outputs": [
        {
          "output_type": "stream",
          "name": "stdout",
          "text": [
            "Ingrese un numero que se encuentre el 30 y el 70: \n",
            "erjglrejgorthigohtrhor\n",
            "\n",
            "\n",
            "Ingrese solamente letras\n",
            "\n",
            "\n",
            "Ingrese un numero que se encuentre el 30 y el 70: \n",
            "1080\n",
            "\n",
            "\n",
            "Ingrese exclusivamente numeros dentro del rango antes mencionado (30 - 70)...\n",
            "\n",
            "\n",
            "Ingrese un numero que se encuentre el 30 y el 70: \n",
            "29\n",
            "\n",
            "\n",
            "Ingrese exclusivamente numeros dentro del rango antes mencionado (30 - 70)...\n",
            "\n",
            "\n",
            "Ingrese un numero que se encuentre el 30 y el 70: \n",
            "71\n",
            "\n",
            "\n",
            "Ingrese exclusivamente numeros dentro del rango antes mencionado (30 - 70)...\n",
            "\n",
            "\n",
            "Ingrese un numero que se encuentre el 30 y el 70: \n",
            "46\n",
            "Tu numero es 46, el cual si esta dentro del rango permitido...\n"
          ]
        }
      ]
    }
  ]
}