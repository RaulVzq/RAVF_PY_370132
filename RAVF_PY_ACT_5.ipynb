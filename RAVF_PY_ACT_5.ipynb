{
  "nbformat": 4,
  "nbformat_minor": 0,
  "metadata": {
    "colab": {
      "provenance": [],
      "authorship_tag": "ABX9TyNrNTEoXiArW28hW42Y0Xgt",
      "include_colab_link": true
    },
    "kernelspec": {
      "name": "python3",
      "display_name": "Python 3"
    },
    "language_info": {
      "name": "python"
    }
  },
  "cells": [
    {
      "cell_type": "markdown",
      "metadata": {
        "id": "view-in-github",
        "colab_type": "text"
      },
      "source": [
        "<a href=\"https://colab.research.google.com/github/RaulVzq/RAVF_PY_370132/blob/main/RAVF_PY_ACT_5.ipynb\" target=\"_parent\"><img src=\"https://colab.research.google.com/assets/colab-badge.svg\" alt=\"Open In Colab\"/></a>"
      ]
    },
    {
      "cell_type": "markdown",
      "source": [
        "ACTIVIDAD #5\n"
      ],
      "metadata": {
        "id": "jnzXKQnfxDP9"
      }
    },
    {
      "cell_type": "markdown",
      "source": [
        "1.- Programa en Python que genere 40 números aleatorios entre el 0 y 200, desplegar los números y la leyenda de cada número si es par o impar , la cantidad de los números pares e impares así como la suma de los números pares o impares."
      ],
      "metadata": {
        "id": "iU5SzG-Xw6Rn"
      }
    },
    {
      "cell_type": "code",
      "source": [
        "from random import randint\n",
        "\n",
        "rep = 41\n",
        "\n",
        "for i in range(rep):\n",
        "  num = randint(0,200)\n",
        "  if num % 2 == 0:\n",
        "    print(f\"{num} es par\")\n",
        "  else:\n",
        "    print(f\"{num} es impar\")"
      ],
      "metadata": {
        "id": "vA9xV7fzw6oL"
      },
      "execution_count": null,
      "outputs": []
    },
    {
      "cell_type": "markdown",
      "source": [
        "2.- Programa en Python que despliegue la tabla de multiplicar de un número dado (número entre el 1 y 20).\n",
        "\n"
      ],
      "metadata": {
        "id": "-RgUdiFVw7CJ"
      }
    },
    {
      "cell_type": "code",
      "source": [
        "from random import randint\n",
        "\n",
        "rep = 11\n",
        "\n",
        "try:\n",
        "    num = int(input(\"Ingrese un numero: \"))\n",
        "except:\n",
        "    print(\"Ingrese un numero. . .\")\n",
        "else:\n",
        "    for i in range(rep):\n",
        "      resp = (num*i)\n",
        "      print(f\"{num} x {i} = {resp}\")"
      ],
      "metadata": {
        "id": "GcetaIWMw7Vr"
      },
      "execution_count": null,
      "outputs": []
    },
    {
      "cell_type": "markdown",
      "source": [
        "3.- Programa en Python que lea una calificación, las calificación deberá estar en el rango de 0 a 100, si hay un error de captura, mostrar mensaje de error. con la calificación correcta mostrar msg de aprobado reprobado."
      ],
      "metadata": {
        "id": "URgLrjK3w7hY"
      }
    },
    {
      "cell_type": "code",
      "source": [
        "try:\n",
        "    calif = int(input(\"Ingrese una calificacion: \"))\n",
        "except:\n",
        "      print(\"ERROR DE DATO...\")\n",
        "else:\n",
        "      if calif >= 0 and calif <= 100:\n",
        "          if calif >= 60 and calif <= 100:\n",
        "              print(f\"Aprobado con {calif} \")\n",
        "          else:\n",
        "              if calif >= 0 and calif < 60:\n",
        "                  print(f\"Reprobado con {calif}\")\n",
        "      else:\n",
        "          print(\"ERROR DE PROMEDIO...\")"
      ],
      "metadata": {
        "id": "gKFjAcOLw73R"
      },
      "execution_count": null,
      "outputs": []
    },
    {
      "cell_type": "markdown",
      "source": [
        "4.- Programa en Python que lea n cantidad de números enteros dentro de un rango dado (> 0 ) , el programa deberá terminar cuando el usuario introduzca el número cero.\n",
        "\n",
        "desplegar la suma de números y la media."
      ],
      "metadata": {
        "id": "WVBGIUKCw8Yu"
      }
    },
    {
      "cell_type": "code",
      "source": [
        "suma = 0\n",
        "prom = 0\n",
        "i = 0\n",
        "num = 1\n",
        "\n",
        "while num != 0:\n",
        "    try:\n",
        "        num = int(input(\"Ingrese un numero: \"))\n",
        "    except:\n",
        "        print(\"Ingrese un valor numerico. . .\")\n",
        "    else:\n",
        "        suma = suma + num\n",
        "        i = i + 1\n",
        "\n",
        "prom = suma/i\n",
        "print(f\"La suma de todos los numeros ingresados es de: {suma}\")\n",
        "print(f\"La media de la suma de los numeros es igual a: {prom}\")"
      ],
      "metadata": {
        "id": "MSl50DpOowgF"
      },
      "execution_count": null,
      "outputs": []
    },
    {
      "cell_type": "markdown",
      "source": [
        "5.- Programa en Python que sirva para leer el promedio de una materia. donde el usuario tendrá un máximo de 3 oportunidades de cursar la materia, si el promedio es aprobado, felicitarlo y continuar el siguiente semestre, si promedio es reprobado deberá salir mensaje de repetir materia o es baja académica si ha reprobado 3 veces.\n",
        "\n"
      ],
      "metadata": {
        "id": "iKtzQR-mw9Bz"
      }
    },
    {
      "cell_type": "code",
      "source": [
        "par = 3\n",
        "mat = 0\n",
        "suma = 0\n",
        "prom = 0\n",
        "i = 1\n",
        "j = 0\n",
        "k = 1\n",
        "\n",
        "while i < 4:\n",
        "    for j in range(par):\n",
        "        mat = int(input(f\"Ingrese la calificacion del parcial {k} (INTENTO ({i})): \"))\n",
        "        suma = suma + mat\n",
        "        j = j + 1\n",
        "        k = k + 1\n",
        "    prom = suma/par\n",
        "    if prom >= 60 and prom <= 100 and i <= 3:\n",
        "        i = i + 1\n",
        "        print(f\"\\nFelicidades, has aprobado la materia en el intento ({i - 1}) con un promedio de: {prom}\")\n",
        "        i = 4\n",
        "    else:\n",
        "        if prom >= 0 and prom <= 60 and i == 1 or i == 2:\n",
        "            print(\"\\nHas reprobado, hay que recursar. . .\\n\")\n",
        "            i = i + 1\n",
        "            k = 1\n",
        "            prom = 0\n",
        "            suma = 0\n",
        "            mat = 0\n",
        "        else:\n",
        "            if prom >= 0 and prom <= 60 and i == 3:\n",
        "                i = i + 1\n",
        "                print(f\"\\nChales, has reprobado la materia en el intento ({i - 1}) y seras dado de baja con un promedio de {prom}. . .  \")\n"
      ],
      "metadata": {
        "id": "i29TMGrKw9Vs"
      },
      "execution_count": null,
      "outputs": []
    },
    {
      "cell_type": "markdown",
      "source": [
        "PARTE 2:"
      ],
      "metadata": {
        "id": "0PFVwip1w90Z"
      }
    },
    {
      "cell_type": "markdown",
      "source": [
        "1.- función que lea n cantidad de números hasta que el usuario lo desee, desplegar la suma de los números, media y valor de los números mayores y menores."
      ],
      "metadata": {
        "id": "Vpuzc3Idw-E-"
      }
    },
    {
      "cell_type": "code",
      "source": [
        "def n_numeros ():\n",
        "    opc = 1\n",
        "    num = 0\n",
        "    i = 0\n",
        "    suma = 0\n",
        "    prom = 0\n",
        "    num_may = 0\n",
        "    num_men = 9999999\n",
        "\n",
        "    while opc != 0:\n",
        "      try:\n",
        "          print(\"Desea ingresar numeros ? \\n1.- Si \\n0.- No\")\n",
        "          opc = int(input(\"\"))\n",
        "      except:\n",
        "          print(\"Ingrese valores numericos. . .\")\n",
        "      else:\n",
        "          if opc == 1:\n",
        "              try:\n",
        "                  num = int(input(\"Ingrese un numero: \"))\n",
        "              except:\n",
        "                  print(\"Ingrese valores numericos. . .\")\n",
        "              else:\n",
        "                  i = i + 1\n",
        "                  suma = suma + num\n",
        "                  prom = suma / i\n",
        "                  if num > num_may:\n",
        "                      num_may = num\n",
        "                  else:\n",
        "                      if num_men > num:\n",
        "                          num_men = num\n",
        "                      else:\n",
        "                          opc = 0\n",
        "\n",
        "    print(f\"la suma de los numeros ingresados es: {suma}\")\n",
        "    print(f\"La media de los numeros sumados es de: {prom}\")\n",
        "    print(f\"El numero mayor es: {num_may}\")\n",
        "    print(f\"El numero menor es: {num_men}\")\n",
        "\n",
        "n_numeros()"
      ],
      "metadata": {
        "id": "mcu1_LCqw-U6"
      },
      "execution_count": null,
      "outputs": []
    },
    {
      "cell_type": "markdown",
      "source": [
        "2.- función que genere 15 números impares entre 10 y 60 o máximo de 25 números. desplegar la media de los pares y media de impares."
      ],
      "metadata": {
        "id": "nVgQhdwUw-7b"
      }
    },
    {
      "cell_type": "code",
      "source": [],
      "metadata": {
        "id": "H2XFRwDUw_PM"
      },
      "execution_count": null,
      "outputs": []
    },
    {
      "cell_type": "markdown",
      "source": [
        "3.- función que sirva para leer y validar un número dentro de un rango dado por el usuario. repetir esta acción hasta que el usuario lo desee, desplegar cantidad de números y promedio de los números.."
      ],
      "metadata": {
        "id": "0_-sa8Sfw_m5"
      }
    },
    {
      "cell_type": "code",
      "source": [],
      "metadata": {
        "id": "S_oZMXAHxADB"
      },
      "execution_count": null,
      "outputs": []
    },
    {
      "cell_type": "markdown",
      "source": [
        "4.- función que reciba como parámetro los valores para el área de un triángulo y retorne su resultado"
      ],
      "metadata": {
        "id": "2FM4EGP0xAW5"
      }
    },
    {
      "cell_type": "code",
      "source": [],
      "metadata": {
        "id": "76monIScxAvf"
      },
      "execution_count": null,
      "outputs": []
    },
    {
      "cell_type": "markdown",
      "source": [
        "5.- función que sirva para validar un número dentro de un rango dado."
      ],
      "metadata": {
        "id": "Vfj8HSexxBPf"
      }
    },
    {
      "cell_type": "code",
      "source": [],
      "metadata": {
        "id": "_tj5TOdnxBhe"
      },
      "execution_count": null,
      "outputs": []
    }
  ]
}