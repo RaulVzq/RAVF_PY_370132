{
  "nbformat": 4,
  "nbformat_minor": 0,
  "metadata": {
    "colab": {
      "provenance": [],
      "authorship_tag": "ABX9TyMCl0wKn15Yu9N4WL15MD0N",
      "include_colab_link": true
    },
    "kernelspec": {
      "name": "python3",
      "display_name": "Python 3"
    },
    "language_info": {
      "name": "python"
    }
  },
  "cells": [
    {
      "cell_type": "markdown",
      "metadata": {
        "id": "view-in-github",
        "colab_type": "text"
      },
      "source": [
        "<a href=\"https://colab.research.google.com/github/RaulVzq/RAVF_PY_370132/blob/main/RAVF_PY_ACT_6.ipynb\" target=\"_parent\"><img src=\"https://colab.research.google.com/assets/colab-badge.svg\" alt=\"Open In Colab\"/></a>"
      ]
    },
    {
      "cell_type": "markdown",
      "source": [
        "ACTIVIDAD #6 CICLOS Y FUNCIONES."
      ],
      "metadata": {
        "id": "9Re0JTrBLoPd"
      }
    },
    {
      "cell_type": "markdown",
      "source": [
        "1.- FUNCIÓN QUE LEA n CANTIDAD DE NÚMEROS HASTA QUE EL USUARIO LO DESEE, DESPLEGAR LA SUMA DE LOS NÚMEROS, MEDIA Y VALOR DE LOS NÚMEROS MAYORES Y MENORES."
      ],
      "metadata": {
        "id": "4sv7Hg4xLGVd"
      }
    },
    {
      "cell_type": "code",
      "source": [
        "def leer_num ():\n",
        "\n",
        "    opc = 1\n",
        "    i = 0\n",
        "    suma = 0\n",
        "    num = 0\n",
        "    num_may = 0\n",
        "    num_men = 9223372036854775807\n",
        "\n",
        "    while opc == 1:\n",
        "        print(\"Quiere ingresar numeros?: \")\n",
        "        print(\"1.- Si\")\n",
        "        print(\"0.- No\")\n",
        "        try:\n",
        "            opc = int(input(\"\"))\n",
        "        except:\n",
        "            print(\"\\nIngrese valores numericos...\\n\")\n",
        "        else:\n",
        "            if opc == 1:\n",
        "                try:\n",
        "                    num = int(input(\"Ingrese un numero: \"))\n",
        "                except:\n",
        "                    print(\"\\nIngrese un valor numerico...\\n\")\n",
        "                else:\n",
        "                    i = i + 1\n",
        "                    suma = suma + num\n",
        "\n",
        "                    if num > num_may:\n",
        "                        num_may = num\n",
        "\n",
        "                    if num < num_men:\n",
        "                        num_men = num\n",
        "            else:\n",
        "                if opc == 0 and num == 0:\n",
        "                    print(\"Finalizado...\")\n",
        "\n",
        "        if num > 0 and opc == 0:\n",
        "            prom = suma / i\n",
        "\n",
        "            if prom > 0:\n",
        "                print(f\"La suma de todos los numeros es: {suma}\")\n",
        "                print(f\"La media de la suma de todos los numeros es: {prom:.2f}\")\n",
        "                print(f\"El numero mayor es: {num_may}\")\n",
        "                print(f\"El numero menor es: {num_men}\")"
      ],
      "metadata": {
        "id": "NifT1R62LGiu"
      },
      "execution_count": 84,
      "outputs": []
    },
    {
      "cell_type": "markdown",
      "source": [
        "2.- FUNCIÓN QUE GENERE 15 NÚMEROS IMPARES ENTRE 10 Y 60 o MÁXIMO DE 25 NÚMEROS. DESPLEGAR LA MEDIA DE LOS PARES Y MEDIA DE IMPARES."
      ],
      "metadata": {
        "id": "sc4XtR7eLGse"
      }
    },
    {
      "cell_type": "code",
      "source": [
        "import random"
      ],
      "metadata": {
        "id": "H4bq3hnRQvLR"
      },
      "execution_count": null,
      "outputs": []
    },
    {
      "cell_type": "code",
      "source": [
        "def numeros_aleatorios ():\n",
        "\n",
        "    i = 0\n",
        "    j = 0\n",
        "    k = 0\n",
        "    num_impar = 0\n",
        "    sum_impar = 0\n",
        "    med_impar = 0\n",
        "    num_par = 0\n",
        "    sum_par = 0\n",
        "    med_par = 0\n",
        "\n",
        "    while i < 25 and num_impar < 15:\n",
        "        num_aleat = random.randint(10,60)\n",
        "\n",
        "        if num_aleat % 2 == 0:\n",
        "            print(f\"el numero: {num_aleat} es PAR.\")\n",
        "            sum_par = sum_par + num_aleat\n",
        "            j = j + 1\n",
        "            i = i + 1\n",
        "        else:\n",
        "            print(f\"el numero: {num_aleat} es IMPAR.\")\n",
        "            num_impar = num_impar + 1\n",
        "            sum_impar = sum_impar + num_aleat\n",
        "            k = k + 1\n",
        "            i = i + 1\n",
        "\n",
        "    med_par = sum_par / j\n",
        "    med_impar = sum_impar / k\n",
        "\n",
        "    print(f\"\\nLa cantidad de numeros pares es de: {sum_par}\")\n",
        "    print(f\"La media de la suma de los numeros pares es: {med_par:.2f}\")\n",
        "    print(f\"La cantidad de numeros impares es de: {sum_impar}\")\n",
        "    print(f\"La media de la suma de los numeros impares es de: {med_impar:.2f}\")\n"
      ],
      "metadata": {
        "id": "6RcJUUsgLG0e"
      },
      "execution_count": null,
      "outputs": []
    },
    {
      "cell_type": "markdown",
      "source": [
        "3.- FUNCIÓN QUE SIRVA PARA LEER UN RANGO DADO POR EL USUARIO. REPETIR ESTA ACCIÓN HASTA QUE EL USUARIO LO DESEE, DESPLEGAR CANTIDAD DE NUMEROS Y PROMEDIO DE LOS NUMEROS..\n",
        "\n"
      ],
      "metadata": {
        "id": "bVnEn7WpL6yU"
      }
    },
    {
      "cell_type": "code",
      "source": [
        "def nums_rango ():\n",
        "    opc = 1\n",
        "    suma = 0\n",
        "    med = 0\n",
        "    j = 0\n",
        "    while opc == 1:\n",
        "        print(\"Desea agregar un rango de numeros?\")\n",
        "        print(\"1.- SI\")\n",
        "        print(\"0.- NO\")\n",
        "        try:\n",
        "            opc = int(input(\"\\n\"))\n",
        "        except:\n",
        "            print(\"Ingrese un numero...\")\n",
        "        else:\n",
        "            if opc == 1:\n",
        "                try:\n",
        "                    rangi = int(input(\"Ingrese el rango inicial: \"))\n",
        "                    rangfi = int(input(\"Ingrese el rango final: \"))\n",
        "                except:\n",
        "                    print(\"Ingrese un numero...\")\n",
        "                else:\n",
        "                    if rangi > rangfi:\n",
        "                         for i in range(rangfi, rangi + 1):\n",
        "                             print(f\"{i}\")\n",
        "                             j = j + 1\n",
        "                             suma = suma + i\n",
        "\n",
        "                         med = suma / j\n",
        "                         print(f\"\\nLa cantidad de numeros es: {j}\")\n",
        "                         print(f\"La suma de los numeros es de: {suma}\")\n",
        "                         print(f\"La media de la suma de estos numeros es de: {med:.2f}\")\n",
        "                    else:\n",
        "                         for i in range(rangi, rangfi + 1):\n",
        "                             print(f\"{i}\")\n",
        "                             j = j + 1\n",
        "                             suma = suma + i\n",
        "\n",
        "                         med = suma / j\n",
        "                         print(f\"\\nLa cantidad de numeros es: {j}\")\n",
        "                         print(f\"La suma de los numeros es de: {suma}\")\n",
        "                         print(f\"La media de la suma de estos numeros es de: {med:.2f}\")\n",
        "            else:\n",
        "                print(\"Finalizado...\")"
      ],
      "metadata": {
        "id": "Nr3z73V_L6_U"
      },
      "execution_count": 85,
      "outputs": []
    },
    {
      "cell_type": "markdown",
      "source": [
        "4.- FUNCIÓN QUE RECIBA COMO PARÁMETRO LOS VALORES PARA EL ÁREA DE UN TRIANGULO Y RETORNE SU RESULTADO\n",
        "\n"
      ],
      "metadata": {
        "id": "sVwIOxcTL7Kk"
      }
    },
    {
      "cell_type": "code",
      "source": [
        "def retornar_area (base, altura):\n",
        "        area = (base*altura)/2\n",
        "        return area"
      ],
      "metadata": {
        "id": "Wry6Wd0BRn-S"
      },
      "execution_count": 87,
      "outputs": []
    },
    {
      "cell_type": "code",
      "source": [
        "def area_triangulo ():\n",
        "     while True:\n",
        "         try:\n",
        "            num1 = int(input(\"Ingrese la base de su triangulo: (cm)\"))\n",
        "            num2 = int(input(\"Ingrese el altura de su triangulo: (cm)\"))\n",
        "         except:\n",
        "            print(\"Ingrese un valor numerico...\")\n",
        "         else:\n",
        "            resultado = retornar_area(base=num1, altura=num2)\n",
        "            print(f\"El area del triagulo es: {resultado}\")\n",
        "            break"
      ],
      "metadata": {
        "id": "5d7pCD9MJ9OF"
      },
      "execution_count": 88,
      "outputs": []
    },
    {
      "cell_type": "markdown",
      "source": [
        "5.- FUNCION QUE SIRVA QUE SIRVA PARA EVALUAR EL PROMEDIO DE 3 CALIFICACIONES DADAS, SI EL USUARIO SU CALIFICACION ES APROBADA MANDAR MSGE QUE DIGA \"felicidades avanzas al siguiente semestre\", SI LA CALIFICACIONE ESTA REPROBADA EL MENSAGE \"repetir materia \" EL ALUMNO TENDRA UN MAXIMO DE CURSAR 3 VESES LA MATERIA, SI LA REPRUEBA 3 VESES MANDAR MSGE \" lastima estas fuera de la UABC\""
      ],
      "metadata": {
        "id": "KX3_7maIL7mU"
      }
    },
    {
      "cell_type": "code",
      "source": [
        "def promedios ():\n",
        "    par = 3\n",
        "    mat = 0\n",
        "    suma = 0\n",
        "    prom = 0\n",
        "    i = 1\n",
        "    j = 0\n",
        "    k = 1\n",
        "\n",
        "    while i < 4:\n",
        "        for j in range(par):\n",
        "            while True:\n",
        "                try:\n",
        "                    mat = int(input(f\"Ingrese la calificacion del parcial {k} (INTENTO ({i})): \"))\n",
        "                except:\n",
        "                    print(\"Ingrese valores numericos...\")\n",
        "                else:\n",
        "                    suma = suma + mat\n",
        "                    j = j + 1\n",
        "                    k = k + 1\n",
        "                    break\n",
        "        prom = suma/par\n",
        "        if prom >= 60 and prom <= 100 and i <= 3:\n",
        "            i = i + 1\n",
        "            print(f\"\\nFELICIDADES, HAS APROBADO la materia en el intento ({i - 1}) con un promedio de: {prom}...\")\n",
        "            i = 4\n",
        "        else:\n",
        "            if prom >= 0 and prom <= 60 and i == 1 or i == 2:\n",
        "                print(\"\\nHas reprobado, hay que recursar...\\n\")\n",
        "                i = i + 1\n",
        "                k = 1\n",
        "                prom = 0\n",
        "                suma = 0\n",
        "                mat = 0\n",
        "            else:\n",
        "                if prom >= 0 and prom <= 60 and i == 3:\n",
        "                    i = i + 1\n",
        "                    print(f\"\\nHas reprobado la materia en el intento ({i - 1}) y seras DADO DE BAJA con un promedio de {prom}...\")\n"
      ],
      "metadata": {
        "id": "VSVYrOCTL7_M"
      },
      "execution_count": 82,
      "outputs": []
    },
    {
      "cell_type": "markdown",
      "source": [
        "MENU PRINCIPAL"
      ],
      "metadata": {
        "id": "m_hUiYeAMbCL"
      }
    },
    {
      "cell_type": "code",
      "source": [
        "opc = 1\n",
        "while opc != 0:\n",
        "    print(\"\\n/////// M E N U ///////\")\n",
        "    print(\"Ingrese la opcion a realizar: \")\n",
        "    print(\"1.- N cantidad de numeros\")\n",
        "    print(\"2.- Numeros pares e impares\")\n",
        "    print(\"3.- Rango de numeros\")\n",
        "    print(\"4.- Area de un triangulo\")\n",
        "    print(\"5.- Promedio de calificaciones\")\n",
        "    print(\"0.- Salir\")\n",
        "    while True:\n",
        "        try:\n",
        "            opc = int(input(\"\\n\"))\n",
        "        except:\n",
        "             print(\"Ingrese un valor numerico. . .\")\n",
        "        else:\n",
        "            if opc == 1:\n",
        "                leer_num ()\n",
        "            elif opc == 2:\n",
        "                numeros_aleatorios ()\n",
        "            elif opc == 3:\n",
        "                nums_rango ()\n",
        "            elif opc == 4:\n",
        "                area_triangulo ()\n",
        "            elif opc == 5:\n",
        "                promedios ()\n",
        "            elif opc < 0 or opc > 5:\n",
        "                print(\"Escoja un valor dentro del rango de opciones. . .\")\n",
        "            break"
      ],
      "metadata": {
        "id": "j-8irVhcMbXD"
      },
      "execution_count": null,
      "outputs": []
    }
  ]
}