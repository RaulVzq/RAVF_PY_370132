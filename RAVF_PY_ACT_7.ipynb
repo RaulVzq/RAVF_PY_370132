{
  "nbformat": 4,
  "nbformat_minor": 0,
  "metadata": {
    "colab": {
      "provenance": [],
      "authorship_tag": "ABX9TyPrA8Ly3ZPIU8oxSeWiPrPi",
      "include_colab_link": true
    },
    "kernelspec": {
      "name": "python3",
      "display_name": "Python 3"
    },
    "language_info": {
      "name": "python"
    }
  },
  "cells": [
    {
      "cell_type": "markdown",
      "metadata": {
        "id": "view-in-github",
        "colab_type": "text"
      },
      "source": [
        "<a href=\"https://colab.research.google.com/github/RaulVzq/RAVF_PY_370132/blob/main/RAVF_PY_ACT_7.ipynb\" target=\"_parent\"><img src=\"https://colab.research.google.com/assets/colab-badge.svg\" alt=\"Open In Colab\"/></a>"
      ]
    },
    {
      "cell_type": "markdown",
      "source": [
        "Actividad #7"
      ],
      "metadata": {
        "id": "DLWp_3rWlibM"
      }
    },
    {
      "cell_type": "markdown",
      "source": [
        "1.- Función que utilice una lista con los nombres de tus mascotas, o artistas favoritos, (minimo 5, maximo 10) imprimir las cadenas y la cantidad de caracteres de cada cadena.  "
      ],
      "metadata": {
        "id": "e7w22vxlloU5"
      }
    },
    {
      "cell_type": "code",
      "source": [
        "def lista_cadena ():\n",
        "    elemento = 0\n",
        "\n",
        "    mi_lista=[\"Doki\", \"Pelusa\", \"Yoav\", \"John\", \"Andrea\"]\n",
        "\n",
        "    for elemento in mi_lista:\n",
        "        print(f\"{elemento} tiene {len(elemento)} caracteres\")\n",
        "lista_cadena ()"
      ],
      "metadata": {
        "id": "6-Ykhh5klubL",
        "colab": {
          "base_uri": "https://localhost:8080/"
        },
        "outputId": "39fd6fb5-33f9-4f89-c605-5da9ea09f89f"
      },
      "execution_count": 16,
      "outputs": [
        {
          "output_type": "stream",
          "name": "stdout",
          "text": [
            "Doki tiene 4 caracteres\n",
            "Pelusa tiene 6 caracteres\n",
            "Yoav tiene 4 caracteres\n",
            "John tiene 4 caracteres\n",
            "Andrea tiene 6 caracteres\n"
          ]
        }
      ]
    },
    {
      "cell_type": "markdown",
      "source": [
        "2.- Programa que utilice 2 funciones:\n",
        "\n",
        "Función que genere y regrese una lista con 10 números aleatorios entre el 30 y 50 (no repetidos).\n",
        "\n",
        "Función que reciba una lista , Imprimir la lista (Indice y Valor ).\n",
        "\n",
        "Mandar llamar la función e imprimir toda la lista.\n",
        "\n"
      ],
      "metadata": {
        "id": "MCriSZ-ZlvHk"
      }
    },
    {
      "cell_type": "code",
      "source": [
        "import random"
      ],
      "metadata": {
        "id": "t6oUriHN7PzT"
      },
      "execution_count": 17,
      "outputs": []
    },
    {
      "cell_type": "code",
      "source": [
        "def generar_lista ():\n",
        "    num = random.sample(range(30,50),10)\n",
        "    return num"
      ],
      "metadata": {
        "id": "nMw2Q1i9r9Yy"
      },
      "execution_count": 18,
      "outputs": []
    },
    {
      "cell_type": "code",
      "source": [
        "def imprimir_lista (mi_lista):\n",
        "    for i, elemento in enumerate(mi_lista):\n",
        "        print(f\"{i} = {elemento}\")"
      ],
      "metadata": {
        "id": "2DefN1_xsIQV"
      },
      "execution_count": 19,
      "outputs": []
    },
    {
      "cell_type": "code",
      "source": [
        "lista_aleatoria = generar_lista()\n",
        "imprimir_lista(lista_aleatoria)"
      ],
      "metadata": {
        "colab": {
          "base_uri": "https://localhost:8080/"
        },
        "id": "STc9UPissaMy",
        "outputId": "a6ad2e0e-6c37-4423-d16d-1a63f24ce246"
      },
      "execution_count": 20,
      "outputs": [
        {
          "output_type": "stream",
          "name": "stdout",
          "text": [
            "0 = 38\n",
            "1 = 37\n",
            "2 = 35\n",
            "3 = 46\n",
            "4 = 34\n",
            "5 = 33\n",
            "6 = 44\n",
            "7 = 48\n",
            "8 = 39\n",
            "9 = 42\n"
          ]
        }
      ]
    },
    {
      "cell_type": "markdown",
      "source": [
        "3.- Escribe una función que reciba dos listas de números del mismo tamaño y calcule la suma de los elementos correspondientes de cada lista. (regresar una nueva lista) . Luego, muestra una lista con los resultados de cada suma. Nota: si las listas no son del mismo tamaño mandar msge y utilizar el tamaño de la lista mas pequeña)"
      ],
      "metadata": {
        "id": "s3hTEMaxlwxL"
      }
    },
    {
      "cell_type": "code",
      "source": [
        "def sumar_listas (mi_lista1, mi_lista2):\n",
        "    if len(mi_lista1) != len(mi_lista2):\n",
        "        print(\"Las listas enviadas no tienen el mismo tamaño\")\n",
        "        min_len = min(len(mi_lista1), len(mi_lista2))\n",
        "    else:\n",
        "        min_len = len(mi_lista1)\n",
        "\n",
        "    suma = []\n",
        "    for i in range (min_len):\n",
        "        suma.append(mi_lista1[i] + mi_lista2[i])\n",
        "    return suma\n",
        "\n",
        "    res = suma(mi_lista1, mi_lista2)\n",
        "    print(\"Los elementos de ambas listas son: \")\n",
        "    print(f\"{res}\")"
      ],
      "metadata": {
        "id": "pu_vBrtalxDf"
      },
      "execution_count": 9,
      "outputs": []
    },
    {
      "cell_type": "code",
      "source": [
        "sumar_listas (mi_lista1 = [1,2,3], mi_lista2 = [5,6,7,8])"
      ],
      "metadata": {
        "colab": {
          "base_uri": "https://localhost:8080/"
        },
        "id": "TlqT6o38uHhh",
        "outputId": "8840e6a3-dfb2-43ae-a299-1b34d75ec0c8"
      },
      "execution_count": 10,
      "outputs": [
        {
          "output_type": "stream",
          "name": "stdout",
          "text": [
            "Las listas enviadas no tienen el mismo tamaño\n"
          ]
        },
        {
          "output_type": "execute_result",
          "data": {
            "text/plain": [
              "[6, 8, 10]"
            ]
          },
          "metadata": {},
          "execution_count": 10
        }
      ]
    },
    {
      "cell_type": "markdown",
      "source": [
        "4.- Escribe una función llamada eliminar_duplicados que reciba una lista como parámetro y elimine los elementos duplicados. El resultado debe ser una nueva lista sin duplicados. Pide al usuario que ingrese una lista y luego llama a la función eliminar_duplicados para mostrar la lista sin duplicados. (Solo Numeros enteros, validar)"
      ],
      "metadata": {
        "id": "LCF-ZRiPlzTN"
      }
    },
    {
      "cell_type": "code",
      "source": [
        "def eliminar_duplicados (mi_lista):\n",
        "    lista_no_duplicada = []\n",
        "    for elemento in mi_lista:\n",
        "        if elemento not in lista_no_duplicada:\n",
        "            lista_no_duplicada.append(elemento)\n",
        "    return lista_no_duplicada"
      ],
      "metadata": {
        "id": "DFJIMpXwlzrA"
      },
      "execution_count": 11,
      "outputs": []
    },
    {
      "cell_type": "code",
      "source": [
        "def validar_numero (entrada):\n",
        "    while True:\n",
        "        try:\n",
        "            num = int(input(entrada))\n",
        "            return num\n",
        "        except:\n",
        "            print(\"Ingrese un valor numerico...\")"
      ],
      "metadata": {
        "id": "iNRPfJhgwcRT"
      },
      "execution_count": 12,
      "outputs": []
    },
    {
      "cell_type": "code",
      "source": [
        "mi_lista = []\n",
        "dato = validar_numero(\"Ingrese el tamaño de la lista (n de elementos): \")\n",
        "for i in range(dato):\n",
        "    elemento = validar_numero(f\"Ingrese un elemento {i+1}: \")\n",
        "    mi_lista.append(elemento)\n",
        "\n",
        "lista_no_duplicada = eliminar_duplicados(mi_lista)\n",
        "print(f\"Lista original: {mi_lista}\")\n",
        "print(f\"Lista no duplicada: {lista_no_duplicada}\")"
      ],
      "metadata": {
        "colab": {
          "base_uri": "https://localhost:8080/"
        },
        "id": "Y99R-jHvw1Ic",
        "outputId": "0e6c70d6-dcb4-44da-b616-f6c753273243"
      },
      "execution_count": 15,
      "outputs": [
        {
          "output_type": "stream",
          "name": "stdout",
          "text": [
            "Ingrese el tamaño de la lista (n de elementos): dfigrkgnrtgnrlt\n",
            "Ingrese un valor numerico...\n",
            "Ingrese el tamaño de la lista (n de elementos): 5\n",
            "Ingrese un elemento 1: 1\n",
            "Ingrese un elemento 2: 1\n",
            "Ingrese un elemento 3: 10\n",
            "Ingrese un elemento 4: 20\n",
            "Ingrese un elemento 5: 100\n",
            "Lista original: [1, 1, 10, 20, 100]\n",
            "Lista no duplicada: [1, 10, 20, 100]\n"
          ]
        }
      ]
    },
    {
      "cell_type": "markdown",
      "source": [
        "5.- Escribe una función que calcule la media y la mediana de una lista de números enteros.\n",
        "\n",
        "La media es la suma de todos los elementos y dividido entre la cantidad de elementos\n",
        "\n",
        "La mediana es el valor que queda en la mitad de la lista cuando se ordena de forma ascendente. Si la lista tiene un número par de elementos, la mediana se calcula como el promedio de los dos valores centrales. Puedes utilizar el método sort() para ordenar la lista y luego calcular la mediana según el tamaño de la lista."
      ],
      "metadata": {
        "id": "Ifv_-I5Ql0FW"
      }
    },
    {
      "cell_type": "code",
      "source": [
        "def la_media (mi_lista):\n",
        "    if not mi_lista:\n",
        "        return None\n",
        "    return sum(mi_lista)/len(mi_lista)"
      ],
      "metadata": {
        "id": "irxWRxIB0Fyx"
      },
      "execution_count": 21,
      "outputs": []
    },
    {
      "cell_type": "code",
      "source": [
        "def la_mediana (mi_lista):\n",
        "    if not mi_lista:\n",
        "        return None\n",
        "    lista_ordenada = sorted(mi_lista)\n",
        "    tam = len(lista_ordenada)\n",
        "    if tam % 2 == 0:\n",
        "        indice_medio_1 = tam // 2-1\n",
        "        indice_medio_2 = tam // 2\n",
        "        return (lista_ordenada[indice_medio_1] + lista_ordenada[indice_medio_2]) / 2\n",
        "    else:\n",
        "        return lista_ordenada [tam // 2]\n",
        "        media = la_media (mi_lista)\n",
        "        mediana = la_mediana (mi_lista)\n",
        "        print(f\"Datos de la lista: {mi_lista}\")\n",
        "        printf(f\"La media de la lista: {media}\")\n",
        "        printf(f\"La mediana de la lista: {mediana}\")"
      ],
      "metadata": {
        "id": "ZC0k9Vg9y6D_"
      },
      "execution_count": 27,
      "outputs": []
    },
    {
      "cell_type": "code",
      "source": [
        "la_media (mi_lista = [1,2,3,4,5,6,7,8,9,10,11])"
      ],
      "metadata": {
        "colab": {
          "base_uri": "https://localhost:8080/"
        },
        "id": "P5ANl8Lv0Vhs",
        "outputId": "b4f86855-b42e-4ad3-ce62-d6dbb2a30b15"
      },
      "execution_count": 33,
      "outputs": [
        {
          "output_type": "execute_result",
          "data": {
            "text/plain": [
              "6.0"
            ]
          },
          "metadata": {},
          "execution_count": 33
        }
      ]
    },
    {
      "cell_type": "code",
      "source": [
        "la_mediana (mi_lista = [1,2,3,4,5,6,7,8,9,10,11])"
      ],
      "metadata": {
        "colab": {
          "base_uri": "https://localhost:8080/"
        },
        "id": "_EQBw-Dt0_QK",
        "outputId": "d640f05b-6b9a-41d5-e071-b15da4408b7f"
      },
      "execution_count": 34,
      "outputs": [
        {
          "output_type": "execute_result",
          "data": {
            "text/plain": [
              "6"
            ]
          },
          "metadata": {},
          "execution_count": 34
        }
      ]
    }
  ]
}