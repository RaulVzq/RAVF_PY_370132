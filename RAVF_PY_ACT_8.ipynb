{
  "nbformat": 4,
  "nbformat_minor": 0,
  "metadata": {
    "colab": {
      "provenance": [],
      "authorship_tag": "ABX9TyOX0DNcbpbkE+qKsJFRK3+8",
      "include_colab_link": true
    },
    "kernelspec": {
      "name": "python3",
      "display_name": "Python 3"
    },
    "language_info": {
      "name": "python"
    }
  },
  "cells": [
    {
      "cell_type": "markdown",
      "metadata": {
        "id": "view-in-github",
        "colab_type": "text"
      },
      "source": [
        "<a href=\"https://colab.research.google.com/github/RaulVzq/RAVF_PY_370132/blob/main/RAVF_PY_ACT_8.ipynb\" target=\"_parent\"><img src=\"https://colab.research.google.com/assets/colab-badge.svg\" alt=\"Open In Colab\"/></a>"
      ]
    },
    {
      "cell_type": "markdown",
      "source": [
        "ACTIVIDAD #8"
      ],
      "metadata": {
        "id": "Z5MF802pp6Xv"
      }
    },
    {
      "cell_type": "markdown",
      "source": [
        "1.- Programa en python que genere un número entre el 1 y 10 (no visible)  preguntarle al usuario que número cree que generó la computadora, el usuario tendrá 3 oportunidades de adivinar.\n",
        "\n",
        "Decir si adivino o si falló en sus 3 intentos."
      ],
      "metadata": {
        "id": "R7k5mjCRp-Pe"
      }
    },
    {
      "cell_type": "code",
      "source": [
        "import random"
      ],
      "metadata": {
        "id": "LWCf4_1MrfGc"
      },
      "execution_count": 2,
      "outputs": []
    },
    {
      "cell_type": "code",
      "execution_count": 3,
      "metadata": {
        "id": "zgo7DualphRM"
      },
      "outputs": [],
      "source": [
        "def adivinar_numero ():\n",
        "    intento = 1\n",
        "    num_min = 1\n",
        "    num_max = 10\n",
        "\n",
        "    num = random.randint(num_min, num_max)\n",
        "\n",
        "    print(\"********************-ADIVINA-ADIVINADOR-********************\")\n",
        "    print(\"Tienes 3 intentos para adivinar un numero entre el 1 y el 10\")\n",
        "\n",
        "    while intento < 4:\n",
        "            try:\n",
        "                print(f\"\\nINTENTO ({intento}) Estoy pensando en un numero... ¿Cual es?: \")\n",
        "                resp = int(input())\n",
        "            except:\n",
        "                print(\"Solamente ingrese valores numericos\")\n",
        "            else:\n",
        "                intento = intento + 1\n",
        "\n",
        "                if resp < num:\n",
        "                    print(\"El numero que has escogido esta por debajo del valor secreto... intentalo denuevo\")\n",
        "                else:\n",
        "                    if resp > num:\n",
        "                        print(\"El numero que has escogido esta por encima del valor secreto... intentalo denuevo\")\n",
        "                    else:\n",
        "                        if resp == num:\n",
        "                            print(f\"Felicidades, {resp} era el numero secreto...\")\n",
        "                            intento = 4\n",
        "                if intento == 4 and resp != num:\n",
        "                    print(\"Lastima, has utilizado todos los intentos, inicia denuevo\")\n"
      ]
    },
    {
      "cell_type": "markdown",
      "source": [
        "2.- El juego Busca Número muestra una lista de 10 numeros, sin mostrar su contenido,\n",
        "\n",
        "Al usuario se le muestra un número que se generó aleatoriamente y el usuario tendrá 3 intentos de adivinar en qué índice del arreglo se encuentra.\n",
        "\n",
        "El usuario recibirá un mensaje que diga GANASTE, PERDISTE, TIENES UN NUEVO INTENTO\n",
        "\n",
        "El usuario podrá jugar cuantas veces lo desee.\n",
        "\n",
        "\n",
        "NOTA: La lista se deberá llenar con números aleatorios del 1 al 10 no repetidos.\n",
        "\n",
        "(Hacer una función que regrese la lista con los 10 números sin repetir)"
      ],
      "metadata": {
        "id": "UfkkzwyyqFPW"
      }
    },
    {
      "cell_type": "markdown",
      "source": [
        "FORMA 1 (FUNCION SHUFFLE)"
      ],
      "metadata": {
        "id": "cp5UhKPRqzeN"
      }
    },
    {
      "cell_type": "code",
      "source": [
        "from random import shuffle"
      ],
      "metadata": {
        "id": "mjEN0iS-th-B"
      },
      "execution_count": 4,
      "outputs": []
    },
    {
      "cell_type": "code",
      "source": [
        "from random import randint"
      ],
      "metadata": {
        "id": "SCuM5gu7xfdn"
      },
      "execution_count": 5,
      "outputs": []
    },
    {
      "cell_type": "code",
      "source": [
        "def generar_lista1 ():\n",
        "    lista_aleat = [1,2,3,4,5,6,7,8,9,10]\n",
        "    shuffle(lista_aleat)\n",
        "    return lista_aleat"
      ],
      "metadata": {
        "id": "pjnhAt4_uPHG"
      },
      "execution_count": 6,
      "outputs": []
    },
    {
      "cell_type": "code",
      "source": [
        "def adivinar_posicion1 ():\n",
        "\n",
        "    intento = 1\n",
        "    num_min = 1\n",
        "    num_max = 10\n",
        "\n",
        "    lista_num = generar_lista1()\n",
        "\n",
        "    print(\"********************-ADIVINA-LA-POSICION-********************\")\n",
        "    print(\"A continuacion se le mostrara un numero (del 1 al 10) que hay\")\n",
        "    print(\"almacenado en un vector y tienes que adivinar en que posicion\")\n",
        "    print(\"del vector se encuentra...\")\n",
        "\n",
        "    i = random.randint(num_min, num_max)\n",
        "\n",
        "    while intento < 4:\n",
        "            try:\n",
        "                print(f\"Encuentra la posicion del numero: '{lista_num[i]}'\")\n",
        "                resp = int(input())\n",
        "            except:\n",
        "                print(\"Solamente ingrese valores numericos\")\n",
        "            else:\n",
        "                intento = intento + 1\n",
        "\n",
        "                if resp < i:\n",
        "                    print(\"El numero que has escogido esta por debajo de la posicion secreta... intentalo denuevo\")\n",
        "                else:\n",
        "                    if resp > i:\n",
        "                        print(\"El numero que has escogido esta por encima de la posicion secreta... intentalo denuevo\")\n",
        "                    else:\n",
        "                        if resp == i:\n",
        "                            print(f\"Felicidades, {resp} era la posicion secreta...\")\n",
        "                            intento = 4\n",
        "                if intento == 4 and resp != i:\n",
        "                    print(\"Lastima, has utilizado todos los intentos, inicia denuevo\")"
      ],
      "metadata": {
        "id": "bvUyhvk7ub0C"
      },
      "execution_count": 7,
      "outputs": []
    },
    {
      "cell_type": "markdown",
      "source": [
        "FORMA 2 (FUNCION RANDOM.SAMPLE)"
      ],
      "metadata": {
        "id": "LUYwKn89q4xl"
      }
    },
    {
      "cell_type": "code",
      "source": [
        "import random"
      ],
      "metadata": {
        "id": "FkeFz_8RlShB"
      },
      "execution_count": 8,
      "outputs": []
    },
    {
      "cell_type": "code",
      "source": [
        "from random import sample"
      ],
      "metadata": {
        "id": "L-oOAxXzvIbg"
      },
      "execution_count": 9,
      "outputs": []
    },
    {
      "cell_type": "code",
      "source": [
        "def generar_lista2 ():\n",
        "    num = range(1,11)\n",
        "    lista_aleat2 = sample(num, len(num))\n",
        "    return lista_aleat2"
      ],
      "metadata": {
        "id": "alcLyqO7uN6j"
      },
      "execution_count": 10,
      "outputs": []
    },
    {
      "cell_type": "code",
      "source": [
        "def adivinar_posicion2 ():\n",
        "\n",
        "    intento = 1\n",
        "    num_min = 1\n",
        "    num_max = 10\n",
        "\n",
        "    lista_num = generar_lista2()\n",
        "\n",
        "    print(\"********************-ADIVINA-LA-POSICION-********************\")\n",
        "    print(\"A continuacion se le mostrara un numero (del 1 al 10) que hay\")\n",
        "    print(\"almacenado en un vector y tienes que adivinar en que posicion\")\n",
        "    print(\"del vector se encuentra...\")\n",
        "\n",
        "    i = random.randint(num_min, num_max)\n",
        "\n",
        "    while intento < 4:\n",
        "            try:\n",
        "                print(f\"Encuentra la posicion del numero: '{lista_num[i]}'\")\n",
        "                resp = int(input())\n",
        "            except:\n",
        "                print(\"Solamente ingrese valores numericos\")\n",
        "            else:\n",
        "                intento = intento + 1\n",
        "\n",
        "                if resp < i:\n",
        "                    print(\"El numero que has escogido esta por debajo de la posicion secreta... intentalo denuevo\")\n",
        "                else:\n",
        "                    if resp > i:\n",
        "                        print(\"El numero que has escogido esta por encima de la posicion secreta... intentalo denuevo\")\n",
        "                    else:\n",
        "                        if resp == i:\n",
        "                            print(f\"Felicidades, {resp} era la posicion secreta...\")\n",
        "                            intento = 4\n",
        "                if intento == 4 and resp != i:\n",
        "                    print(\"Lastima, has utilizado todos los intentos, inicia denuevo\")"
      ],
      "metadata": {
        "id": "XrpZU8wJo1tM"
      },
      "execution_count": 11,
      "outputs": []
    },
    {
      "cell_type": "markdown",
      "source": [
        "FORMA 3 (FUNCION MANUAL)"
      ],
      "metadata": {
        "id": "r5S6iB5gq76d"
      }
    },
    {
      "cell_type": "code",
      "source": [
        "import random"
      ],
      "metadata": {
        "id": "HPvuwT21gbHU"
      },
      "execution_count": 12,
      "outputs": []
    },
    {
      "cell_type": "code",
      "source": [
        "from random import randint"
      ],
      "metadata": {
        "id": "0X-siwxOq9O3"
      },
      "execution_count": 13,
      "outputs": []
    },
    {
      "cell_type": "code",
      "source": [
        "def mezclar_lista(lista_original):\n",
        "    lista_generica = lista_original [:]\n",
        "    longitud_lista = len(lista_generica)\n",
        "    for i in range (longitud_lista):\n",
        "        indice_aleatorio = random.randint (0, longitud_lista - 1)\n",
        "        aux = lista_generica [i]\n",
        "        lista_generica [i] = lista_generica [indice_aleatorio]\n",
        "        lista_generica [indice_aleatorio] = aux\n",
        "    return lista_generica"
      ],
      "metadata": {
        "id": "awI1mDmheJ6v"
      },
      "execution_count": 14,
      "outputs": []
    },
    {
      "cell_type": "code",
      "source": [
        "def adivinar_posicion3 ():\n",
        "\n",
        "    intento = 1\n",
        "    num_min = 1\n",
        "    num_max = 10\n",
        "\n",
        "    lista_generica = [1,2,3,4,5,6,7,8,9,10]\n",
        "\n",
        "    lista_mezclada = mezclar_lista (lista_generica)\n",
        "\n",
        "    print(\"********************-ADIVINA-LA-POSICION-********************\")\n",
        "    print(\"A continuacion se le mostrara un numero (del 1 al 10) que hay\")\n",
        "    print(\"almacenado en un vector y tienes que adivinar en que posicion\")\n",
        "    print(\"del vector se encuentra...\")\n",
        "\n",
        "    i = random.randint(num_min, num_max)\n",
        "\n",
        "    while intento < 4:\n",
        "            try:\n",
        "                print(f\"Encuentra la posicion del numero: '{lista_mezclada [i]}'\")\n",
        "                resp = int(input())\n",
        "            except:\n",
        "                print(\"Solamente ingrese valores numericos\")\n",
        "            else:\n",
        "                intento = intento + 1\n",
        "\n",
        "                if resp < i:\n",
        "                    print(\"El numero que has escogido esta por debajo de la posicion secreta... intentalo denuevo\")\n",
        "                else:\n",
        "                    if resp > i:\n",
        "                        print(\"El numero que has escogido esta por encima de la posicion secreta... intentalo denuevo\")\n",
        "                    else:\n",
        "                        if resp == i:\n",
        "                            print(f\"Felicidades, {resp} era la posicion secreta...\")\n",
        "                            intento = 4\n",
        "                if intento == 4 and resp != i:\n",
        "                    print(\"Lastima, has utilizado todos los intentos, inicia denuevo\")"
      ],
      "metadata": {
        "id": "I-Og56SArZZ_"
      },
      "execution_count": 15,
      "outputs": []
    },
    {
      "cell_type": "markdown",
      "source": [
        "MENU PRINCIPAL"
      ],
      "metadata": {
        "id": "-AezSw7BYCRM"
      }
    },
    {
      "cell_type": "code",
      "source": [
        "opc = 1\n",
        "\n",
        "while opc != 0:\n",
        "        try:\n",
        "            print(\"\\n////////// M E N U //////////\")\n",
        "            print(\"Ingrese una opcion a realizar: \")\n",
        "            print(\"1.- Iniciar Juego 'adivina el numero'\")\n",
        "            print(\"2.- Iniciar Juego 'adivina la posicion' (FORMA 1)\")\n",
        "            print(\"3.- Iniciar Juego 'adivina la posicion' (FORMA 2)\")\n",
        "            print(\"4.- Iniciar Juego 'adivina la posicion' (FORMA 3)\")\n",
        "            print(\"0.- Salir\")\n",
        "            opc = int(input())\n",
        "        except:\n",
        "            print(\"Ingrese un valor numerico...\")\n",
        "        else:\n",
        "            if opc == 1:\n",
        "                adivinar_numero ()\n",
        "            elif opc == 2:\n",
        "                adivinar_posicion1 ()\n",
        "            elif opc == 3:\n",
        "                adivinar_posicion2 ()\n",
        "            elif opc == 4:\n",
        "                adivinar_posicion3 ()\n",
        "            elif opc > 4 or opc < 0:\n",
        "                print(\"Ingrese un valor dentro del rango: \")\n",
        "            elif opc == 0:\n",
        "                print(\"Finalizado...\")"
      ],
      "metadata": {
        "colab": {
          "base_uri": "https://localhost:8080/"
        },
        "id": "bCmxbN0IYDzX",
        "outputId": "ae6ddfdf-d8d6-4f4c-8415-34271c0345c4"
      },
      "execution_count": 19,
      "outputs": [
        {
          "output_type": "stream",
          "name": "stdout",
          "text": [
            "\n",
            "////////// M E N U //////////\n",
            "Ingrese una opcion a realizar: \n",
            "1.- Iniciar Juego 'adivina el numero'\n",
            "2.- Iniciar Juego 'adivina la posicion' (FORMA 1)\n",
            "3.- Iniciar Juego 'adivina la posicion' (FORMA 2)\n",
            "4.- Iniciar Juego 'adivina la posicion' (FORMA 3)\n",
            "0.- Salir\n",
            "4\n",
            "********************-ADIVINA-LA-POSICION-********************\n",
            "A continuacion se le mostrara un numero (del 1 al 10) que hay\n",
            "almacenado en un vector y tienes que adivinar en que posicion\n",
            "del vector se encuentra...\n",
            "Encuentra la posicion del numero: '3'\n",
            "4\n",
            "El numero que has escogido esta por debajo de la posicion secreta... intentalo denuevo\n",
            "Encuentra la posicion del numero: '3'\n",
            "7\n",
            "Felicidades, 7 era la posicion secreta...\n",
            "\n",
            "////////// M E N U //////////\n",
            "Ingrese una opcion a realizar: \n",
            "1.- Iniciar Juego 'adivina el numero'\n",
            "2.- Iniciar Juego 'adivina la posicion' (FORMA 1)\n",
            "3.- Iniciar Juego 'adivina la posicion' (FORMA 2)\n",
            "4.- Iniciar Juego 'adivina la posicion' (FORMA 3)\n",
            "0.- Salir\n",
            "0\n",
            "Finalizado...\n"
          ]
        }
      ]
    }
  ]
}