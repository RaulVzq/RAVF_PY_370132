{
  "nbformat": 4,
  "nbformat_minor": 0,
  "metadata": {
    "colab": {
      "provenance": [],
      "authorship_tag": "ABX9TyOdHAXQxhw35zTLYzHNRD5C",
      "include_colab_link": true
    },
    "kernelspec": {
      "name": "python3",
      "display_name": "Python 3"
    },
    "language_info": {
      "name": "python"
    }
  },
  "cells": [
    {
      "cell_type": "markdown",
      "metadata": {
        "id": "view-in-github",
        "colab_type": "text"
      },
      "source": [
        "<a href=\"https://colab.research.google.com/github/RaulVzq/RAVF_PY_370132/blob/main/RAVF_PY_ACT_9.ipynb\" target=\"_parent\"><img src=\"https://colab.research.google.com/assets/colab-badge.svg\" alt=\"Open In Colab\"/></a>"
      ]
    },
    {
      "cell_type": "markdown",
      "source": [
        "\n",
        "\n",
        "\n",
        "\n",
        "\n",
        "\n",
        "\n",
        "\n",
        "\n",
        "\n",
        "\n",
        "\n",
        "Actividad #9. Diccionarios\n",
        "\n",
        "Realiza un programa en python que utilice el siguiente menu:\n",
        "\n",
        " MENU\n",
        "\n",
        " 1.- Crear Diccionario\n",
        "\n",
        " 2.- Imprimir Diccionario\n",
        "\n",
        " 0.- Salir\n",
        "\n"
      ],
      "metadata": {
        "id": "YKX5OaLeX_vT"
      }
    },
    {
      "cell_type": "markdown",
      "source": [
        "////////// LIBRERIAS //////////"
      ],
      "metadata": {
        "id": "L5JYfpuyxT6p"
      }
    },
    {
      "cell_type": "code",
      "source": [
        "from IPython.display import clear_output"
      ],
      "metadata": {
        "id": "3hLsOK-8xNm7"
      },
      "execution_count": 1,
      "outputs": []
    },
    {
      "cell_type": "code",
      "source": [
        "from random import randint"
      ],
      "metadata": {
        "id": "6XLppaHW3UpT"
      },
      "execution_count": 2,
      "outputs": []
    },
    {
      "cell_type": "code",
      "source": [
        "from random import choice"
      ],
      "metadata": {
        "id": "IMSxhAXQ3XsP"
      },
      "execution_count": 3,
      "outputs": []
    },
    {
      "cell_type": "code",
      "source": [
        "import random"
      ],
      "metadata": {
        "id": "YrKYtEt-3bq9"
      },
      "execution_count": 4,
      "outputs": []
    },
    {
      "cell_type": "markdown",
      "source": [
        "////////// FUNCION PARA LIMPIAR PANTALLA //////////"
      ],
      "metadata": {
        "id": "dNCcDUc-xm25"
      }
    },
    {
      "cell_type": "code",
      "source": [
        "def limpiar_pantalla ():\n",
        "    clear_output (wait = True)"
      ],
      "metadata": {
        "id": "coogbKf9xqnO"
      },
      "execution_count": 5,
      "outputs": []
    },
    {
      "cell_type": "markdown",
      "source": [
        "////////// FUNCION PARA GENERAR UN REGISTRO (diccionario) //////////"
      ],
      "metadata": {
        "id": "ecEvY74BxYMp"
      }
    },
    {
      "cell_type": "code",
      "source": [
        "def crear_diccionario ():\n",
        "\n",
        "    mat_rand = random.randint (300000, 399999)\n",
        "    matricula = [mat_rand]\n",
        "\n",
        "    n_hombre = random.choice ([\"Raul\", \"Axel\", \"Luis\", \"Angel\", \"Jose\", \"Fernando\", \"Kevin\", \"Brayan\", \"Scott\", \"Alberto\", \"Diego\", \"Marco\", \"Francisco\", \"Uriel\", \"Isaac\"])\n",
        "    n_mujer = random.choice ([\"Mariana\", \"Maria\", \"Michelle\", \"Diana\", \"Dayana\", \"Danna\", \"Alejandra\", \"Nancy\", \"Ruby\", \"Esmeralda\", \"Perla\", \"Carolina\", \"Andrea\", \"Antonia\", \"Patricia\"])\n",
        "\n",
        "    nombre = random.choice ([n_hombre, n_mujer])\n",
        "\n",
        "    ap_pat = random.choice([\"Vazquez\", \"Vasquez\", \"Velasquez\", \"De La Torre\", \"Carrasco\", \"Lopez\", \"Taboada\", \"De La Cruz\", \"Figueroa\", \"Vanderas\", \"Sanchez\", \"Cervantes\", \"Yepiz\", \"Torres\", \"Enriquez\", \"Llamas\", \"De Leon\", \"Martinez\", \"Gonzalez\", \"Villalobos\"])\n",
        "    ap_mat = random.choice([\"Vazquez\", \"Vasquez\", \"Velasquez\", \"De La Torre\", \"Carrasco\", \"Lopez\", \"Taboada\", \"De La Cruz\", \"Figueroa\", \"Vanderas\", \"Sanchez\", \"Cervantes\", \"Yepiz\", \"Torres\", \"Enriquez\", \"Llamas\", \"De Leon\", \"Martinez\", \"Gonzalez\", \"Villalobos\"])\n",
        "\n",
        "    edad_rand = random.randint (18, 60)\n",
        "    edad = [edad_rand]\n",
        "\n",
        "    if nombre == n_hombre:\n",
        "        sexo = [\"Hombre\"]\n",
        "    else:\n",
        "        sexo = [\"Mujer\"]\n",
        "\n",
        "    reg_alum = {\"Matricula\":[matricula], \"Nombre\":[nombre], \"Apellido Paterno\":[ap_pat], \"Apellido Materno\":[ap_mat], \"Edad\":[edad], \"Genero\":[sexo]}\n",
        "\n",
        "    return reg_alum"
      ],
      "metadata": {
        "id": "RDDruLTsa0eD"
      },
      "execution_count": 6,
      "outputs": []
    },
    {
      "cell_type": "markdown",
      "source": [
        "////////// FUNCION PARA IMPRIMIR EL DICCIONARIO //////////"
      ],
      "metadata": {
        "id": "9eFdRop4FdIA"
      }
    },
    {
      "cell_type": "code",
      "source": [
        "def imprimir_diccionario ():\n",
        "    mi_reg = crear_diccionario ()\n",
        "    print(\"\\n\")\n",
        "    print(\"Matricula:\\tNombre:\\t\\tApellido Paterno:\\tApellido Materno:\\tEdad:\\t\\tGenero: \")\n",
        "    print(mi_reg[\"Matricula\"],\"\\t\",mi_reg[\"Nombre\"],\"\\t\",mi_reg[\"Apellido Paterno\"],\"\\t\\t\",mi_reg[\"Apellido Materno\"],\"\\t\\t\",mi_reg[\"Edad\"],\"\\t\",mi_reg[\"Genero\"])\n",
        "    print(\"\\n\")"
      ],
      "metadata": {
        "id": "3-IIsYp9ayZ7"
      },
      "execution_count": 7,
      "outputs": []
    },
    {
      "cell_type": "markdown",
      "source": [
        "////////// MENU PRINCIPAL ///////////\n",
        "\n",
        "\n"
      ],
      "metadata": {
        "id": "Jwxl-kM7YUk5"
      }
    },
    {
      "cell_type": "code",
      "execution_count": 10,
      "metadata": {
        "id": "bhSJEYPcX1ix",
        "colab": {
          "base_uri": "https://localhost:8080/"
        },
        "outputId": "864cc4ae-388d-424f-b687-39b77e38f28f"
      },
      "outputs": [
        {
          "output_type": "stream",
          "name": "stdout",
          "text": [
            "Finalizado...\n"
          ]
        }
      ],
      "source": [
        "opc = 1\n",
        "while opc != 0:\n",
        "    try:\n",
        "        print(\"/////////// M E N U ///////////\")\n",
        "        print(\"Ingrese la opcion a realizar: \")\n",
        "        print(\"1.- Crear un diccionario\")\n",
        "        print(\"2.- Imprimir el diccionario\")\n",
        "        print(\"0.- Salir\")\n",
        "        opc = int(input(\"\"))\n",
        "    except:\n",
        "        limpiar_pantalla ()\n",
        "        print(\"letras no permitidas, solamente ingrese numeros...\")\n",
        "        print(\"\\n\")\n",
        "    else:\n",
        "        if opc == 1:\n",
        "            crear_diccionario ()\n",
        "            limpiar_pantalla ()\n",
        "            print(f\"Registro generado...\")\n",
        "            print(\"\\n\")\n",
        "        elif opc == 2:\n",
        "            limpiar_pantalla ()\n",
        "            imprimir_diccionario ()\n",
        "        elif opc < 0 or opc > 2:\n",
        "            limpiar_pantalla ()\n",
        "            print(\"Ingrese un numero dentro del rango de opciones...\")\n",
        "            print(\"\\n\")\n",
        "        elif opc == 0:\n",
        "            limpiar_pantalla ()\n",
        "            print(\"Finalizado...\")"
      ]
    }
  ]
}