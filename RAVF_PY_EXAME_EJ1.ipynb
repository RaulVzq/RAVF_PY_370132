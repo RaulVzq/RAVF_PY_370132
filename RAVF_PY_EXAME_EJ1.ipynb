{
  "nbformat": 4,
  "nbformat_minor": 0,
  "metadata": {
    "colab": {
      "provenance": [],
      "authorship_tag": "ABX9TyPXmQCMWod5CNocTDqfWGA4",
      "include_colab_link": true
    },
    "kernelspec": {
      "name": "python3",
      "display_name": "Python 3"
    },
    "language_info": {
      "name": "python"
    }
  },
  "cells": [
    {
      "cell_type": "markdown",
      "metadata": {
        "id": "view-in-github",
        "colab_type": "text"
      },
      "source": [
        "<a href=\"https://colab.research.google.com/github/RaulVzq/RAVF_PY_370132/blob/main/RAVF_PY_EXAME_EJ1.ipynb\" target=\"_parent\"><img src=\"https://colab.research.google.com/assets/colab-badge.svg\" alt=\"Open In Colab\"/></a>"
      ]
    },
    {
      "cell_type": "markdown",
      "source": [
        "FUNCION QUE RECIBE COMO PARAMETRO EL AREA DE UN TRIANGULO"
      ],
      "metadata": {
        "id": "JDO4qyaj-qEv"
      }
    },
    {
      "cell_type": "code",
      "execution_count": 3,
      "metadata": {
        "id": "XWD7hNAk-hru"
      },
      "outputs": [],
      "source": [
        "def funcion1 (alt, bas):\n",
        "    resultado = (base*altura)/2\n",
        "    return resultado"
      ]
    },
    {
      "cell_type": "markdown",
      "source": [
        "Datos de entrada y reultado"
      ],
      "metadata": {
        "id": "ZOAUdjxQ-qpW"
      }
    },
    {
      "cell_type": "code",
      "source": [
        "while True:\n",
        "    try:\n",
        "        base = int (input(\"Ingrese la base del triangulo: \"))\n",
        "    except:\n",
        "        print(\"\\nIngrese un valor numerico...\\n\")\n",
        "    else:\n",
        "        break\n",
        "\n",
        "while True:\n",
        "    try:\n",
        "        altura = int(input(\"Ingrese la altura del triangulo: \"))\n",
        "    except:\n",
        "        print(\"\\nIngrese un valor numerico...\")\n",
        "    else:\n",
        "        break;\n",
        "\n",
        "resultado = funcion1 (altura, base)\n",
        "\n",
        "print(f\"El resultado es: {resultado} cm\")"
      ],
      "metadata": {
        "colab": {
          "base_uri": "https://localhost:8080/"
        },
        "id": "XqcncRVj-qaG",
        "outputId": "ff8be098-e124-4b95-dc59-1b01cd41cea7"
      },
      "execution_count": 4,
      "outputs": [
        {
          "output_type": "stream",
          "name": "stdout",
          "text": [
            "Ingrese la base del triangulo: 10\n",
            "Ingrese la altura del triangulo: 20\n",
            "El resultado es: 100.0 cm\n"
          ]
        }
      ]
    }
  ]
}